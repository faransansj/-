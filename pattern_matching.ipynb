{
 "cells": [
  {
   "cell_type": "markdown",
   "metadata": {},
   "source": [
    "### 브루트 포스 알고리즘 (Brute Force Algorithm)"
   ]
  },
  {
   "cell_type": "code",
   "execution_count": 3,
   "metadata": {},
   "outputs": [
    {
     "name": "stdout",
     "output_type": "stream",
     "text": [
      "Brute Force Matches: [8]\n"
     ]
    }
   ],
   "source": [
    "def brute_force_search(text, pattern):\n",
    "    n = len(text)\n",
    "    m = len(pattern)\n",
    "    positions = []\n",
    "    for i in range(n - m + 1):\n",
    "        match = True\n",
    "        for j in range(m):\n",
    "            if text[i + j] != pattern[j]:\n",
    "                match = False\n",
    "                break\n",
    "        if match:\n",
    "            positions.append(i)\n",
    "    return positions\n",
    "\n",
    "text = \"ABABACADAABABABA\"\n",
    "pattern = \"AABA\"\n",
    "matches = brute_force_search(text, pattern)\n",
    "print(\"Brute Force Matches:\", matches)\n"
   ]
  },
  {
   "cell_type": "markdown",
   "metadata": {},
   "source": [
    "### KMP 알고리즘 (Knuth-Morris-Pratt Algorithm)\n"
   ]
  },
  {
   "cell_type": "code",
   "execution_count": 4,
   "metadata": {},
   "outputs": [
    {
     "name": "stdout",
     "output_type": "stream",
     "text": [
      "KMP Matches: [8]\n"
     ]
    }
   ],
   "source": [
    "def compute_lps_array(pattern, m, lps):\n",
    "    length = 0\n",
    "    i = 1\n",
    "    while i < m:\n",
    "        if pattern[i] == pattern[length]:\n",
    "            length += 1\n",
    "            lps[i] = length\n",
    "            i += 1\n",
    "        else:\n",
    "            if length != 0:\n",
    "                length = lps[length - 1]\n",
    "            else:\n",
    "                lps[i] = 0\n",
    "                i += 1\n",
    "\n",
    "def kmp_search(text, pattern):\n",
    "    n = len(text)\n",
    "    m = len(pattern)\n",
    "    lps = [0] * m\n",
    "    j = 0\n",
    "    positions = []\n",
    "    \n",
    "    compute_lps_array(pattern, m, lps)\n",
    "    \n",
    "    i = 0\n",
    "    while i < n:\n",
    "        if pattern[j] == text[i]:\n",
    "            i += 1\n",
    "            j += 1\n",
    "        if j == m:\n",
    "            positions.append(i - j)\n",
    "            j = lps[j - 1]\n",
    "        elif i < n and pattern[j] != text[i]:\n",
    "            if j != 0:\n",
    "                j = lps[j - 1]\n",
    "            else:\n",
    "                i += 1\n",
    "    return positions\n",
    "\n",
    "text = \"ABABACADAABABABA\"\n",
    "pattern = \"AABA\"\n",
    "matches = kmp_search(text, pattern)\n",
    "print(\"KMP Matches:\", matches)\n"
   ]
  },
  {
   "cell_type": "markdown",
   "metadata": {},
   "source": [
    "### 보이어-무어 알고리즘 (Boyer-Moore Algorithm)"
   ]
  },
  {
   "cell_type": "code",
   "execution_count": 5,
   "metadata": {},
   "outputs": [
    {
     "name": "stdout",
     "output_type": "stream",
     "text": [
      "Boyer-Moore Matches: [8]\n"
     ]
    }
   ],
   "source": [
    "def bad_char_heuristic(pattern, size):\n",
    "    bad_char = [-1] * 256\n",
    "    for i in range(size):\n",
    "        bad_char[ord(pattern[i])] = i\n",
    "    return bad_char\n",
    "\n",
    "def boyer_moore_search(text, pattern):\n",
    "    m = len(pattern)\n",
    "    n = len(text)\n",
    "    bad_char = bad_char_heuristic(pattern, m)\n",
    "    s = 0\n",
    "    positions = []\n",
    "    \n",
    "    while s <= n - m:\n",
    "        j = m - 1\n",
    "        while j >= 0 and pattern[j] == text[s + j]:\n",
    "            j -= 1\n",
    "        if j < 0:\n",
    "            positions.append(s)\n",
    "            s += (m - bad_char[ord(text[s + m])] if s + m < n else 1)\n",
    "        else:\n",
    "            s += max(1, j - bad_char[ord(text[s + j])])\n",
    "    return positions\n",
    "\n",
    "text = \"ABABACADAABABABA\"\n",
    "pattern = \"AABA\"\n",
    "matches = boyer_moore_search(text, pattern)\n",
    "print(\"Boyer-Moore Matches:\", matches)"
   ]
  },
  {
   "cell_type": "markdown",
   "metadata": {},
   "source": [
    "### 라빈-카프 알고리즘 (Rabin-Karp Algorithm)\n"
   ]
  },
  {
   "cell_type": "code",
   "execution_count": 6,
   "metadata": {},
   "outputs": [
    {
     "name": "stdout",
     "output_type": "stream",
     "text": [
      "Rabin-Karp Matches: [8]\n"
     ]
    }
   ],
   "source": [
    "def rabin_karp_search(text, pattern, q):\n",
    "    m = len(pattern)\n",
    "    n = len(text)\n",
    "    d = 256\n",
    "    p = 0  # hash value for pattern\n",
    "    t = 0  # hash value for text\n",
    "    h = 1\n",
    "    positions = []\n",
    "\n",
    "    for i in range(m - 1):\n",
    "        h = (h * d) % q\n",
    "\n",
    "    for i in range(m):\n",
    "        p = (d * p + ord(pattern[i])) % q\n",
    "        t = (d * t + ord(text[i])) % q\n",
    "\n",
    "    for i in range(n - m + 1):\n",
    "        if p == t:\n",
    "            if text[i:i + m] == pattern:\n",
    "                positions.append(i)\n",
    "        if i < n - m:\n",
    "            t = (d * (t - ord(text[i]) * h) + ord(text[i + m])) % q\n",
    "            if t < 0:\n",
    "                t = t + q\n",
    "    return positions\n",
    "\n",
    "text = \"ABABACADAABABABA\"\n",
    "pattern = \"AABA\"\n",
    "q = 101  # A prime number\n",
    "matches = rabin_karp_search(text, pattern, q)\n",
    "print(\"Rabin-Karp Matches:\", matches)\n"
   ]
  },
  {
   "cell_type": "markdown",
   "metadata": {},
   "source": [
    "### 아호-코라식 알고리즘 (Aho-Corasick Algorithm)"
   ]
  },
  {
   "cell_type": "code",
   "execution_count": 7,
   "metadata": {},
   "outputs": [
    {
     "name": "stdout",
     "output_type": "stream",
     "text": [
      "Aho-Corasick Matches: defaultdict(<class 'list'>, {'ABAB': [0, 9, 11], 'AABA': [8]})\n"
     ]
    }
   ],
   "source": [
    "from collections import deque, defaultdict\n",
    "\n",
    "class AhoCorasickNode:\n",
    "    def __init__(self):\n",
    "        self.children = {}\n",
    "        self.fail = None\n",
    "        self.output = []\n",
    "\n",
    "class AhoCorasickAutomaton:\n",
    "    def __init__(self, patterns):\n",
    "        self.root = AhoCorasickNode()\n",
    "        self.build_trie(patterns)\n",
    "        self.build_failure_links()\n",
    "\n",
    "    def build_trie(self, patterns):\n",
    "        for pattern in patterns:\n",
    "            node = self.root\n",
    "            for symbol in pattern:\n",
    "                node = node.children.setdefault(symbol, AhoCorasickNode())\n",
    "            node.output.append(pattern)\n",
    "\n",
    "    def build_failure_links(self):\n",
    "        queue = deque()\n",
    "        for node in self.root.children.values():\n",
    "            node.fail = self.root\n",
    "            queue.append(node)\n",
    "\n",
    "        while queue:\n",
    "            current_node = queue.popleft()\n",
    "            for symbol, child_node in current_node.children.items():\n",
    "                queue.append(child_node)\n",
    "                fail_node = current_node.fail\n",
    "                while fail_node is not None and symbol not in fail_node.children:\n",
    "                    fail_node = fail_node.fail\n",
    "                child_node.fail = fail_node.children[symbol] if fail_node else self.root\n",
    "                child_node.output += child_node.fail.output if child_node.fail else []\n",
    "\n",
    "    def search(self, text):\n",
    "        node = self.root\n",
    "        matches = defaultdict(list)\n",
    "        for i, symbol in enumerate(text):\n",
    "            while node is not None and symbol not in node.children:\n",
    "                node = node.fail\n",
    "            if node is None:\n",
    "                node = self.root\n",
    "                continue\n",
    "            node = node.children[symbol]\n",
    "            for pattern in node.output:\n",
    "                matches[pattern].append(i - len(pattern) + 1)\n",
    "        return matches\n",
    "\n",
    "patterns = [\"AABA\", \"ABAB\"]\n",
    "text = \"ABABACADAABABABA\"\n",
    "automaton = AhoCorasickAutomaton(patterns)\n",
    "matches = automaton.search(text)\n",
    "print(\"Aho-Corasick Matches:\", matches)\n"
   ]
  },
  {
   "cell_type": "markdown",
   "metadata": {},
   "source": [
    "### 슬라이딩 윈도우 알고리즘 (Sliding Window Algorithm)"
   ]
  },
  {
   "cell_type": "code",
   "execution_count": 8,
   "metadata": {},
   "outputs": [
    {
     "name": "stdout",
     "output_type": "stream",
     "text": [
      "Sliding Window Matches: [8]\n"
     ]
    }
   ],
   "source": [
    "def sliding_window_search(text, window_size, pattern):\n",
    "    n = len(text)\n",
    "    positions = []\n",
    "    for i in range(n - window_size + 1):\n",
    "        window = text[i:i + window_size]\n",
    "        if window == pattern:\n",
    "            positions.append(i)\n",
    "    return positions\n",
    "\n",
    "text = \"ABABACADAABABABA\"\n",
    "pattern = \"AABA\"\n",
    "window_size = len(pattern)\n",
    "matches = sliding_window_search(text, window_size, pattern)\n",
    "print(\"Sliding Window Matches:\", matches)\n"
   ]
  },
  {
   "cell_type": "markdown",
   "metadata": {},
   "source": [
    "### Visualization"
   ]
  },
  {
   "cell_type": "code",
   "execution_count": null,
   "metadata": {},
   "outputs": [],
   "source": []
  },
  {
   "cell_type": "code",
   "execution_count": null,
   "metadata": {},
   "outputs": [],
   "source": []
  }
 ],
 "metadata": {
  "kernelspec": {
   "display_name": "Python 3",
   "language": "python",
   "name": "python3"
  },
  "language_info": {
   "codemirror_mode": {
    "name": "ipython",
    "version": 3
   },
   "file_extension": ".py",
   "mimetype": "text/x-python",
   "name": "python",
   "nbconvert_exporter": "python",
   "pygments_lexer": "ipython3",
   "version": "3.12.3"
  }
 },
 "nbformat": 4,
 "nbformat_minor": 2
}
