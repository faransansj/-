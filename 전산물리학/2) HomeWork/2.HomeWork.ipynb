{
 "cells": [
  {
   "cell_type": "code",
   "execution_count": null,
   "metadata": {},
   "outputs": [],
   "source": [
    "########################################\n",
    "# 1. under/over/critical damping RK4   #\n",
    "########################################\n",
    "\n",
    "\n"
   ]
  },
  {
   "cell_type": "code",
   "execution_count": null,
   "metadata": {},
   "outputs": [],
   "source": [
    "########################################\n",
    "# 2. resonance solution RK4            #\n",
    "########################################"
   ]
  },
  {
   "cell_type": "code",
   "execution_count": 7,
   "metadata": {},
   "outputs": [
    {
     "ename": "SystemExit",
     "evalue": "",
     "output_type": "error",
     "traceback": [
      "An exception has occurred, use %tb to see the full traceback.\n",
      "\u001b[1;31mSystemExit\u001b[0m\n"
     ]
    },
    {
     "name": "stderr",
     "output_type": "stream",
     "text": [
      "C:\\Users\\LSJ\\AppData\\Roaming\\Python\\Python310\\site-packages\\IPython\\core\\interactiveshell.py:3585: UserWarning: To exit: use 'exit', 'quit', or Ctrl-D.\n",
      "  warn(\"To exit: use 'exit', 'quit', or Ctrl-D.\", stacklevel=1)\n"
     ]
    }
   ],
   "source": [
    "########################################\n",
    "# 3. pygame                            #\n",
    "########################################\n",
    "\n",
    "import pygame \n",
    "import sys \n",
    "\n",
    "import math\n",
    "import numpy as np\n",
    "\n",
    "\n",
    "#pygame reset \n",
    "pygame.init()\n",
    "\n",
    "#pygame initial setting \n",
    "width, height = 600, 400\n",
    "color_val = 0\n",
    "\n",
    "screen = pygame.display.set_mode((width,height))\n",
    "clock = pygame.time.Clock()\n",
    "font = pygame.font.Font(None, 64)\n",
    "sub_font = pygame.font.Font(None, 32)\n",
    "#image\n",
    "image = pygame.image.load('C:\\Einstein.jpg')\n",
    "\n",
    "#sound \n",
    "pygame.mixer.init()\n",
    "sound = pygame.mixer.Sound('C:\\chip.mp3')\n",
    "sound.play(-1)\n",
    "\n",
    "#audio visualization\n",
    "audio_data = pygame.sndarray.array(pygame.mixer.Sound('C:\\chip.mp3'))\n",
    "audio_data = audio_data.mean(axis=1)\n",
    "\n",
    "def color_change(color_val):\n",
    "    red = int((math.sin(color_val) + 1) * 127.5)\n",
    "    green = int((math.sin(color_val + 2) + 1) * 127.5)\n",
    "    blue = int((math.sin(color_val + 4) + 1) * 127.5)\n",
    "    return red, green, blue\n",
    "\n",
    "#bounce ball\n",
    "#initail parameter\n",
    "gravity = 9.81\n",
    "ball_radius = 20\n",
    "ball_pos =  height   \n",
    "initial_speed = -20\n",
    "ball_speed = initial_speed   \n",
    "dt = 0.1      \n",
    "\n",
    "while True:\n",
    "    ball_speed += gravity * dt\n",
    "    ball_pos += ball_speed\n",
    "\n",
    "    if ball_pos >= height - ball_radius:\n",
    "        ball_speed = initial_speed  \n",
    "        ball_pos = height - ball_radius\n",
    "\n",
    "    for event in pygame.event.get():\n",
    "        if event.type == pygame.QUIT:\n",
    "            pygame.mixer.music.stop() \n",
    "            pygame.mixer.quit()        \n",
    "            pygame.quit()\n",
    "            sys.exit()\n",
    "\n",
    "    screen.fill(color_change(color_val))\n",
    "    #print image\n",
    "    screen.blit(image, (width*0.2, height*0.3))\n",
    "    \n",
    "    #print text\n",
    "    main1_text = font.render('Welcome to Physics!', True, color_change(color_val+180)) \n",
    "\n",
    "    sub1_text = sub_font.render('it`s not that i`m so smart', True, color_change(color_val*0.3))\n",
    "    sub2_text = sub_font.render('it`s just that', True, color_change(color_val*0.4))\n",
    "    sub3_text = sub_font.render('i say with problems longer', True, color_change(color_val*0.5))\n",
    "    sub4_text = sub_font.render('~Albert Einstein~', True, color_change(color_val*0.6))\n",
    "\n",
    "    screen.blit(main1_text, (width*0.2,height*0.8))\n",
    "    screen.blit(sub1_text, (width*0.5,height*0.3))\n",
    "    screen.blit(sub2_text, (width*0.5,height*0.4))\n",
    "    screen.blit(sub3_text, (width*0.5,height*0.5))\n",
    "    screen.blit(sub4_text, (width*0.5,height*0.7))\n",
    "\n",
    "    pygame.draw.circle(screen, (color_change(color_val+180)), (width * 0.1, int(ball_pos)), ball_radius)\n",
    "\n",
    "    color_val += 0.1\n",
    "\n",
    "    #print audio visualization\n",
    "    step = max(1, int(len(audio_data) / width))\n",
    "    for x in range(width):\n",
    "        y = int((audio_data[x * step] / 2**16) * height*0.2 + height*0.2)\n",
    "        pygame.draw.line(screen, (color_change(color_val+180)), (x, height*0.0), (x, y))\n",
    "\n",
    "    clock.tick(60)\n",
    "    pygame.display.update()"
   ]
  },
  {
   "cell_type": "code",
   "execution_count": null,
   "metadata": {},
   "outputs": [],
   "source": []
  }
 ],
 "metadata": {
  "kernelspec": {
   "display_name": "base",
   "language": "python",
   "name": "python3"
  },
  "language_info": {
   "codemirror_mode": {
    "name": "ipython",
    "version": 3
   },
   "file_extension": ".py",
   "mimetype": "text/x-python",
   "name": "python",
   "nbconvert_exporter": "python",
   "pygments_lexer": "ipython3",
   "version": "3.10.6"
  }
 },
 "nbformat": 4,
 "nbformat_minor": 2
}
