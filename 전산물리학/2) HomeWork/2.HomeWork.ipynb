{
 "cells": [
  {
   "cell_type": "code",
   "execution_count": null,
   "metadata": {},
   "outputs": [],
   "source": [
    "########################################\n",
    "# 1. under/over/critical damping RK4   #\n",
    "########################################\n",
    "\n",
    "\n"
   ]
  },
  {
   "cell_type": "code",
   "execution_count": null,
   "metadata": {},
   "outputs": [],
   "source": [
    "########################################\n",
    "# 2. resonance solution RK4            #\n",
    "########################################"
   ]
  },
  {
   "cell_type": "code",
   "execution_count": 27,
   "metadata": {},
   "outputs": [
    {
     "ename": "KeyboardInterrupt",
     "evalue": "",
     "output_type": "error",
     "traceback": [
      "\u001b[1;31m---------------------------------------------------------------------------\u001b[0m",
      "\u001b[1;31mKeyboardInterrupt\u001b[0m                         Traceback (most recent call last)",
      "\u001b[1;32m~\\AppData\\Local\\Temp\\ipykernel_136060\\319329964.py\u001b[0m in \u001b[0;36m<module>\u001b[1;34m\u001b[0m\n\u001b[0;32m     44\u001b[0m     \u001b[0mcolor_val\u001b[0m \u001b[1;33m+=\u001b[0m \u001b[1;36m0.01\u001b[0m\u001b[1;33m\u001b[0m\u001b[1;33m\u001b[0m\u001b[0m\n\u001b[0;32m     45\u001b[0m \u001b[1;33m\u001b[0m\u001b[0m\n\u001b[1;32m---> 46\u001b[1;33m     \u001b[0mclock\u001b[0m\u001b[1;33m.\u001b[0m\u001b[0mtick\u001b[0m\u001b[1;33m(\u001b[0m\u001b[1;36m120\u001b[0m\u001b[1;33m)\u001b[0m\u001b[1;33m\u001b[0m\u001b[1;33m\u001b[0m\u001b[0m\n\u001b[0m\u001b[0;32m     47\u001b[0m     \u001b[0mpygame\u001b[0m\u001b[1;33m.\u001b[0m\u001b[0mdisplay\u001b[0m\u001b[1;33m.\u001b[0m\u001b[0mflip\u001b[0m\u001b[1;33m(\u001b[0m\u001b[1;33m)\u001b[0m\u001b[1;33m\u001b[0m\u001b[1;33m\u001b[0m\u001b[0m\n",
      "\u001b[1;31mKeyboardInterrupt\u001b[0m: "
     ]
    }
   ],
   "source": [
    "########################################\n",
    "# 3. pygame                            #\n",
    "########################################\n",
    "\n",
    "import pygame \n",
    "import sys \n",
    "\n",
    "import math\n",
    "#pygame reset \n",
    "pygame.init()\n",
    "\n",
    "#pygame initial setting \n",
    "width, height = 600, 400\n",
    "color_val = 0\n",
    "\n",
    "screen = pygame.display.set_mode((width,height))\n",
    "clock = pygame.time.Clock()\n",
    "font = pygame.font.Font(None, 64)\n",
    "\n",
    "#load image\n",
    "image = pygame.image.load('C:\\Einstein.jpg')\n",
    "\n",
    "\n",
    "def color_change(color_val):\n",
    "    red = int((math.sin(color_val) + 1) * 127.5)\n",
    "    green = int((math.sin(color_val + 2) + 1) * 127.5)\n",
    "    blue = int((math.sin(color_val + 4) + 1) * 127.5)\n",
    "    return red, green, blue\n",
    "\n",
    "while True:\n",
    "    for event in pygame.event.get():\n",
    "        if event.type == pygame.QUIT:\n",
    "            sys.exit()\n",
    "\n",
    "    screen.fill(color_change(color_val))\n",
    "    #print image\n",
    "    screen.blit(image, (width*0.2, height*0.3))\n",
    "\n",
    "    \n",
    "    #print text\n",
    "    text = font.render('Welcome to Physics!', True, color_change(color_val+180))\n",
    "    screen.blit(text, (width*0.2,height*0.8))\n",
    "\n",
    "    color_val += 0.01\n",
    "\n",
    "    clock.tick(120)\n",
    "    pygame.display.flip()"
   ]
  },
  {
   "cell_type": "code",
   "execution_count": null,
   "metadata": {},
   "outputs": [],
   "source": []
  }
 ],
 "metadata": {
  "kernelspec": {
   "display_name": "base",
   "language": "python",
   "name": "python3"
  },
  "language_info": {
   "codemirror_mode": {
    "name": "ipython",
    "version": 3
   },
   "file_extension": ".py",
   "mimetype": "text/x-python",
   "name": "python",
   "nbconvert_exporter": "python",
   "pygments_lexer": "ipython3",
   "version": "3.9.13"
  }
 },
 "nbformat": 4,
 "nbformat_minor": 2
}
