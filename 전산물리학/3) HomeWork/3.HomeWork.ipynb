{
 "cells": [
  {
   "cell_type": "markdown",
   "metadata": {},
   "source": [
    "# Homework 3\n",
    "\n",
    "please run the deep learning for MNIST Fashion dataset and get the prediction of N-th image from the test images,   \n",
    "where N means that the last 4-digit number for your student ID number.  \n",
    "For example, my ID is 19973846  \n",
    "Prediction for the Test image at [3846]  \n",
    "[1.8334597e-03 1.0655230e-08 5.0503830e-03 9.8779637e-01 4.3538664e-03 4.4025924e-08 9.6573838e-04 2.3326441e-12 1.6982273e-07 8.1142187e-10]  \n",
    "98.78% to be predicted as Dress  \n",
    "\n",
    "### Submit   \n",
    "(1) prediction values,  \n",
    "(2) prediction class name,  \n",
    "(3) the test image,  \n",
    "(4) the test image true class name, and  \n",
    "(5) code.  "
   ]
  },
  {
   "cell_type": "code",
   "execution_count": 17,
   "metadata": {},
   "outputs": [],
   "source": [
    "import tensorflow as tf\n",
    "from tensorflow import keras\n",
    "\n",
    "import numpy as np\n",
    "import matplotlib.pyplot as plt\n",
    "\n",
    "# Load the Fashion MNIST dataset\n",
    "fashion_mnist = keras.datasets.fashion_mnist\n",
    "(train_images, train_labels), (test_images, test_labels) = fashion_mnist.load_data()\n",
    "\n",
    "# Define the class names\n",
    "class_names = ['T-shirt/top', 'Trouser', 'Pullover', 'Dress', 'Coat',\n",
    "               'Sandal', 'Shirt', 'Sneaker', 'Bag', 'Ankle boot']\n",
    "\n",
    "# Preprocess the data\n",
    "train_images = train_images / 255.0\n",
    "test_images = test_images / 255.0\n",
    "\n",
    "# Flatten the images for the input layer\n",
    "train_images = train_images.reshape((train_images.shape[0], 28, 28))\n",
    "test_images = test_images.reshape((test_images.shape[0], 28, 28))\n",
    "\n"
   ]
  },
  {
   "cell_type": "code",
   "execution_count": 23,
   "metadata": {},
   "outputs": [
    {
     "name": "stdout",
     "output_type": "stream",
     "text": [
      "Epoch 1/10\n",
      "1875/1875 [==============================] - 14s 7ms/step - loss: 0.5166 - accuracy: 0.8096\n",
      "Epoch 2/10\n",
      "1875/1875 [==============================] - 13s 7ms/step - loss: 0.3189 - accuracy: 0.8826\n",
      "Epoch 3/10\n",
      "1875/1875 [==============================] - 13s 7ms/step - loss: 0.2697 - accuracy: 0.9018\n",
      "Epoch 4/10\n",
      "1875/1875 [==============================] - 13s 7ms/step - loss: 0.2424 - accuracy: 0.9120\n",
      "Epoch 5/10\n",
      "1875/1875 [==============================] - 13s 7ms/step - loss: 0.2247 - accuracy: 0.9183\n",
      "Epoch 6/10\n",
      "1875/1875 [==============================] - 13s 7ms/step - loss: 0.2115 - accuracy: 0.9230\n",
      "Epoch 7/10\n",
      "1875/1875 [==============================] - 13s 7ms/step - loss: 0.1987 - accuracy: 0.9293\n",
      "Epoch 8/10\n",
      "1875/1875 [==============================] - 13s 7ms/step - loss: 0.1908 - accuracy: 0.9310\n",
      "Epoch 9/10\n",
      "1875/1875 [==============================] - 13s 7ms/step - loss: 0.1855 - accuracy: 0.9334\n",
      "Epoch 10/10\n",
      "1875/1875 [==============================] - 13s 7ms/step - loss: 0.1783 - accuracy: 0.9372\n"
     ]
    },
    {
     "data": {
      "text/plain": [
       "<keras.callbacks.History at 0x25b3a53f7c0>"
      ]
     },
     "execution_count": 23,
     "metadata": {},
     "output_type": "execute_result"
    }
   ],
   "source": [
    "# Build the model\n",
    "from keras import layers\n",
    "from keras import models\n",
    "\n",
    "model = models.Sequential()\n",
    "\n",
    "model.add(layers.Conv2D(32, (3, 3), activation='relu', input_shape=(28, 28, 1)))\n",
    "model.add(layers.MaxPooling2D((2, 2)))\n",
    "model.add(layers.Conv2D(64, (3, 3), activation='relu'))\n",
    "model.add(layers.MaxPooling2D((2, 2)))\n",
    "model.add(layers.Conv2D(64, (3, 3), activation='relu'))\n",
    "\n",
    "model.add(layers.Flatten())\n",
    "model.add(layers.Dense(64, activation='relu'))\n",
    "model.add(layers.Dense(10, activation='softmax'))\n",
    "\n",
    "# Compile the model\n",
    "model.compile(optimizer='rmsprop',\n",
    "              loss='sparse_categorical_crossentropy',\n",
    "              metrics=['accuracy'])\n",
    "\n",
    "# Train the model\n",
    "model.fit(train_images, train_labels, epochs=10)"
   ]
  },
  {
   "cell_type": "code",
   "execution_count": 24,
   "metadata": {},
   "outputs": [
    {
     "name": "stdout",
     "output_type": "stream",
     "text": [
      "1/1 [==============================] - 0s 59ms/step\n",
      "(1) Prediction values:\n",
      "[2.3673468e-04 1.2950430e-08 1.8461486e-02 3.8110058e-05 2.4096752e-03\n",
      " 5.6616082e-05 9.7878325e-01 8.4655731e-09 8.4660705e-06 5.6517438e-06]\n",
      "\n",
      "(2) Predicted class name: Shirt\n"
     ]
    },
    {
     "data": {
      "image/png": "[encoded data removed]",
      "text/plain": [
       "<Figure size 640x480 with 1 Axes>"
      ]
     },
     "metadata": {},
     "output_type": "display_data"
    },
    {
     "name": "stdout",
     "output_type": "stream",
     "text": [
      "\n",
      "(4) True class name: Shirt\n"
     ]
    }
   ],
   "source": [
    "student_id_last_4_digits = 4531\n",
    "\n",
    "prediction = model.predict(test_images[student_id_last_4_digits].reshape(1, 28, 28))\n",
    "print(\"(1) Prediction values:\")\n",
    "print(prediction[0])\n",
    "predicted_class = np.argmax(prediction[0])\n",
    "predicted_class_name = class_names[predicted_class]\n",
    "print(\"\\n(2) Predicted class name:\", predicted_class_name)\n",
    "\n",
    "plt.imshow(test_images[student_id_last_4_digits].reshape(28, 28), cmap='gray')\n",
    "plt.show()\n",
    "\n",
    "true_class = test_labels[student_id_last_4_digits]\n",
    "true_class_name = class_names[true_class]\n",
    "print(\"\\n(4) True class name:\", true_class_name)"
   ]
  },
  {
   "cell_type": "code",
   "execution_count": null,
   "metadata": {},
   "outputs": [],
   "source": []
  }
 ],
 "metadata": {
  "kernelspec": {
   "display_name": "Python 3",
   "language": "python",
   "name": "python3"
  },
  "language_info": {
   "codemirror_mode": {
    "name": "ipython",
    "version": 3
   },
   "file_extension": ".py",
   "mimetype": "text/x-python",
   "name": "python",
   "nbconvert_exporter": "python",
   "pygments_lexer": "ipython3",
   "version": "3.10.6"
  }
 },
 "nbformat": 4,
 "nbformat_minor": 2
}
