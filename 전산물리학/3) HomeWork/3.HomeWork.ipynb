{
 "cells": [
  {
   "cell_type": "markdown",
   "metadata": {},
   "source": [
    "# Homework 3\n",
    "\n",
    "please run the deep learning for MNIST Fashion dataset and get the prediction of N-th image from the test images,   \n",
    "where N means that the last 4-digit number for your student ID number.  \n",
    "For example, my ID is 19973846  \n",
    "Prediction for the Test image at [3846]  \n",
    "[1.8334597e-03 1.0655230e-08 5.0503830e-03 9.8779637e-01 4.3538664e-03 4.4025924e-08 9.6573838e-04 2.3326441e-12 1.6982273e-07 8.1142187e-10]  \n",
    "98.78% to be predicted as Dress  \n",
    "\n",
    "### Submit   \n",
    "(1) prediction values,  \n",
    "(2) prediction class name,  \n",
    "(3) the test image,  \n",
    "(4) the test image true class name, and  \n",
    "(5) code.  "
   ]
  },
  {
   "cell_type": "code",
   "execution_count": null,
   "metadata": {},
   "outputs": [],
   "source": []
  }
 ],
 "metadata": {
  "language_info": {
   "name": "python"
  }
 },
 "nbformat": 4,
 "nbformat_minor": 2
}
