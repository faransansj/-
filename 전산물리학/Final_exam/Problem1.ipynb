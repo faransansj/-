{
 "cells": [
  {
   "cell_type": "markdown",
   "metadata": {},
   "source": [
    "# Problem1 (40 points)\n",
    "## Finding Puangs\n",
    "\n",
    "1. Please use the data “p1data.npy” that contain 10,000 images \n",
    "    (32pixels X 32 pixels color)  \n",
    "2. First you randomize your image data. Then, find ALL images of PUANGs.  \n",
    "    (1) Provide your random seed number (Use p1_3_shuffle_puang.py file)  \n",
    "    (2) Provide images and the locations of those images. Indices  \n",
    "    (3) In the “p1_3_shuffle_puang.py” file, you can set pseudo-random number with your ID.    \n",
    "      \n",
    "3. Describe how you find those images and what method of Deep Learning is used.\n",
    "4. Please provide your codes as dot py format and images."
   ]
  },
  {
   "cell_type": "markdown",
   "metadata": {},
   "source": []
  }
 ],
 "metadata": {
  "language_info": {
   "name": "python"
  }
 },
 "nbformat": 4,
 "nbformat_minor": 2
}
