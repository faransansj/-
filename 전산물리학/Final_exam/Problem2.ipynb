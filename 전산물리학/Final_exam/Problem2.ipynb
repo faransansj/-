{
 "cells": [
  {
   "cell_type": "markdown",
   "metadata": {},
   "source": [
    "# Problem 2 (40 points)\n",
    "## Find your own photo image \n",
    "1. Please use the data “p2data.npy” that contain 20,000 images (100pixels X 100pixels color)  \n",
    "note)   The data is from Cats and Dogs images from google file provided in class.  \n",
    "        Some images are replaced by your photos. \n",
    "2. First you randomize the image data similarly as problem 1.    \n",
    "    —Provide your random seed number (Use p2_3_shuffle_you.py file)   \n",
    "    —Provide image and the location of your photo, aka Index    \n",
    "    —In the “p2_3_shuffle_you.py” file, you can set pseudo-random number with your ID.\n",
    "      \n",
    "3. Describe how you find those images and what method of Deep Learning is used.  \n",
    "4. Please provide your codes as dot py format and the image.# There is only one image of you in the data  "
   ]
  }
 ],
 "metadata": {
  "language_info": {
   "name": "python"
  }
 },
 "nbformat": 4,
 "nbformat_minor": 2
}
