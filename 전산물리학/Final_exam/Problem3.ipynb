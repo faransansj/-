{
 "cells": [
  {
   "cell_type": "markdown",
   "metadata": {},
   "source": [
    "# Proble 3 (20 points)\n",
    "## DNN vs LSTM (Reuters data)\n",
    "\n",
    "1. Please compare the Deep Learning results of DNN and LSTM algorithm using Reuters data.  \n",
    "2. Please provide the dot py files and results (test accuracy).   \n",
    "3. Discuss your results why one is better than the other.   \n",
    "  "
   ]
  }
 ],
 "metadata": {
  "language_info": {
   "name": "python"
  }
 },
 "nbformat": 4,
 "nbformat_minor": 2
}
