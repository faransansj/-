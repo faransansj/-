{
 "cells": [
  {
   "cell_type": "code",
   "execution_count": 1,
   "metadata": {},
   "outputs": [
    {
     "ename": "AttributeError",
     "evalue": "module 'keras.preprocessing.sequence' has no attribute 'pad_sequences'",
     "output_type": "error",
     "traceback": [
      "\u001b[1;31m---------------------------------------------------------------------------\u001b[0m",
      "\u001b[1;31mAttributeError\u001b[0m                            Traceback (most recent call last)",
      "Cell \u001b[1;32mIn[1], line 15\u001b[0m\n\u001b[0;32m     11\u001b[0m (x_train, y_train), (x_test, y_test) \u001b[38;5;241m=\u001b[39m imdb\u001b[38;5;241m.\u001b[39mload_data(num_words\u001b[38;5;241m=\u001b[39mmax_features)\n\u001b[0;32m     14\u001b[0m \u001b[38;5;66;03m# change into 2D tensors\u001b[39;00m\n\u001b[1;32m---> 15\u001b[0m x_train \u001b[38;5;241m=\u001b[39m \u001b[43mpreprocessing\u001b[49m\u001b[38;5;241;43m.\u001b[39;49m\u001b[43msequence\u001b[49m\u001b[38;5;241;43m.\u001b[39;49m\u001b[43mpad_sequences\u001b[49m(x_train, maxlen\u001b[38;5;241m=\u001b[39mmaxlen)\n\u001b[0;32m     16\u001b[0m x_test  \u001b[38;5;241m=\u001b[39m preprocessing\u001b[38;5;241m.\u001b[39msequence\u001b[38;5;241m.\u001b[39mpad_sequences(x_test, maxlen\u001b[38;5;241m=\u001b[39mmaxlen)\n\u001b[0;32m     19\u001b[0m \u001b[38;5;66;03m# model building\u001b[39;00m\n",
      "\u001b[1;31mAttributeError\u001b[0m: module 'keras.preprocessing.sequence' has no attribute 'pad_sequences'"
     ]
    }
   ],
   "source": [
    "from keras.layers import Embedding\n",
    "from keras.datasets import imdb\n",
    "from keras import preprocessing\n",
    "from keras.models import Sequential\n",
    "from keras.layers import Flatten, Dense\n",
    "\n",
    "max_features = 10000  # my dictionary 10000 words only\n",
    "maxlen = 20           # last 20 words only out of entire review\n",
    "\n",
    "# original data list of integers\n",
    "(x_train, y_train), (x_test, y_test) = imdb.load_data(num_words=max_features)\n",
    "\n",
    "\n",
    "# change into 2D tensors\n",
    "x_train = preprocessing.sequence.pad_sequences(x_train, maxlen=maxlen)\n",
    "x_test  = preprocessing.sequence.pad_sequences(x_test, maxlen=maxlen)\n",
    "\n",
    "\n",
    "# model building\n",
    "model = Sequential()\n",
    "model.add(Embedding(10000, 8, input_length=maxlen)) # 10000 x 8 x 20 (3D) embeddings\n",
    "model.add(Flatten()) # change 3D tensor to 2D tensor 10000 x 160 \n",
    "model.add(Dense(1, activation='sigmoid')) # classifier layer, positive or negative\n",
    "model.compile(optimizer='rmsprop', loss='binary_crossentropy', metrics=['acc'])\n",
    "\n",
    "model.summary()\n",
    "\n",
    "#print (\"Full  --> \", x_train[1])\n",
    "#print (\"Short --> \", sx_train[1])\n",
    "\n",
    "history = model.fit(x_train, y_train,\n",
    "                    epochs=20,\n",
    "                    batch_size=32,\n",
    "                    validation_split=0.2)\n",
    "\n",
    "# word dictionary word-to-number\n",
    "#word_index = imdb.get_word_index()\n",
    "#reverse_word_index = dict([(value, key) for (key, value) in word_index.items()])\n",
    "#decoded_review = ' '.join([reverse_word_index.get(i - 3, '#') for i in x_train[1]])\n",
    "#print (\"Full --> \",decoded_review)\n",
    "\n",
    "#short_decoded_review = ' '.join([reverse_word_index.get(i - 3, '#') for i in sx_train[1]])\n",
    "#print (\"Short --> \", short_decoded_review)\n",
    "       \n",
    "\n",
    "score = model.evaluate(x_test,y_test)\n",
    "print (score)\n",
    "predictions = model.predict(x_test)\n",
    "print (predictions)\n"
   ]
  },
  {
   "cell_type": "code",
   "execution_count": 2,
   "metadata": {},
   "outputs": [
    {
     "ename": "ImportError",
     "evalue": "cannot import name 'pad_sequences' from 'keras.preprocessing.sequence' (c:\\Users\\faran\\AppData\\Local\\Programs\\Python\\Python311\\Lib\\site-packages\\keras\\preprocessing\\sequence.py)",
     "output_type": "error",
     "traceback": [
      "\u001b[1;31m---------------------------------------------------------------------------\u001b[0m",
      "\u001b[1;31mImportError\u001b[0m                               Traceback (most recent call last)",
      "Cell \u001b[1;32mIn[2], line 6\u001b[0m\n\u001b[0;32m      4\u001b[0m \u001b[38;5;28;01mfrom\u001b[39;00m \u001b[38;5;21;01mkeras\u001b[39;00m\u001b[38;5;21;01m.\u001b[39;00m\u001b[38;5;21;01mmodels\u001b[39;00m \u001b[38;5;28;01mimport\u001b[39;00m Sequential\n\u001b[0;32m      5\u001b[0m \u001b[38;5;28;01mfrom\u001b[39;00m \u001b[38;5;21;01mkeras\u001b[39;00m\u001b[38;5;21;01m.\u001b[39;00m\u001b[38;5;21;01mlayers\u001b[39;00m \u001b[38;5;28;01mimport\u001b[39;00m Flatten, Dense\n\u001b[1;32m----> 6\u001b[0m \u001b[38;5;28;01mfrom\u001b[39;00m \u001b[38;5;21;01mkeras\u001b[39;00m\u001b[38;5;21;01m.\u001b[39;00m\u001b[38;5;21;01mpreprocessing\u001b[39;00m\u001b[38;5;21;01m.\u001b[39;00m\u001b[38;5;21;01msequence\u001b[39;00m \u001b[38;5;28;01mimport\u001b[39;00m pad_sequences\n\u001b[0;32m      8\u001b[0m max_features \u001b[38;5;241m=\u001b[39m \u001b[38;5;241m10000\u001b[39m  \u001b[38;5;66;03m# my dictionary 10000 words only\u001b[39;00m\n\u001b[0;32m      9\u001b[0m maxlen \u001b[38;5;241m=\u001b[39m \u001b[38;5;241m20\u001b[39m           \u001b[38;5;66;03m# last 20 words only out of entire review\u001b[39;00m\n",
      "\u001b[1;31mImportError\u001b[0m: cannot import name 'pad_sequences' from 'keras.preprocessing.sequence' (c:\\Users\\faran\\AppData\\Local\\Programs\\Python\\Python311\\Lib\\site-packages\\keras\\preprocessing\\sequence.py)"
     ]
    }
   ],
   "source": []
  },
  {
   "cell_type": "code",
   "execution_count": null,
   "metadata": {},
   "outputs": [],
   "source": []
  }
 ],
 "metadata": {
  "kernelspec": {
   "display_name": "Python 3",
   "language": "python",
   "name": "python3"
  },
  "language_info": {
   "codemirror_mode": {
    "name": "ipython",
    "version": 3
   },
   "file_extension": ".py",
   "mimetype": "text/x-python",
   "name": "python",
   "nbconvert_exporter": "python",
   "pygments_lexer": "ipython3",
   "version": "3.11.1"
  }
 },
 "nbformat": 4,
 "nbformat_minor": 2
}
