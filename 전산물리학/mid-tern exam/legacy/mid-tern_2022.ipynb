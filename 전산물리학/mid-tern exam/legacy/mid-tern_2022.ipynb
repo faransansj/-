{
 "cells": [
  {
   "cell_type": "markdown",
   "metadata": {},
   "source": [
    "### Computational Physics  \n",
    "##### midtern exam 2022\n",
    "\n",
    "𝑎). A baseball (𝑚=0.15𝑘𝑔) is hanging on the ceiling with a string of length 𝐿=2𝑚. Initially it is at rest   \n",
    "b). The ball starts to swing by the periodic force provided with an air blower   \n",
    "c). The blower is removed when the pendulum reaches to some height, and swings freely   \n",
    "d). Sometime later, an obstacle is placed at the 𝑙=1𝑚 position at the center which makes the motion asymmetric back and forth from the equilibrium position   \n",
    "e). Due to the friction and air drag, the entire pendulum motion slows down and stops eventually  \n",
    "\n",
    "**Model the motion of the pendulum as close as the reality for about 2.0 minutes.  \n",
    "**Apply reasonable assumptions when modeling, especially for the frictions, air drag, and blower strength.  \n",
    "\n"
   ]
  },
  {
   "cell_type": "code",
   "execution_count": null,
   "metadata": {},
   "outputs": [],
   "source": []
  }
 ],
 "metadata": {
  "language_info": {
   "name": "python"
  }
 },
 "nbformat": 4,
 "nbformat_minor": 2
}
