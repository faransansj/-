{
 "cells": [
  {
   "cell_type": "markdown",
   "metadata": {},
   "source": [
    "### Computational Physics  \n",
    "##### midtern exam 2021\n",
    "**The Conquistador**  \n",
    "Question : Please analyze the full motion (from beginning to  ending) of the Pirate Ship  \n",
    "Attraction ride at a regular Theme Park.\n",
    "For example, The Lotte World “Conquistador” in Seoul or we call this “Viking (바이킹)” in Korea  \n",
    "Link : https://www.youtube.com/watch?v=aDb5BZbWbJU  \n",
    "\n",
    "\n",
    "**Model the motion of the Conquistador as close as the reality for 1.5 minutes ride.  \n",
    "**Apply reasonable assumptions when modeling. Do consider the safety factors.  \n"
   ]
  },
  {
   "cell_type": "code",
   "execution_count": null,
   "metadata": {},
   "outputs": [],
   "source": []
  }
 ],
 "metadata": {
  "language_info": {
   "name": "python"
  }
 },
 "nbformat": 4,
 "nbformat_minor": 2
}
