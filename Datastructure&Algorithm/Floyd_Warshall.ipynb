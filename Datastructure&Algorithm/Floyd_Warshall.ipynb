{
  "cells": [
    {
      "cell_type": "code",
      "execution_count": null,
      "metadata": {
        "id": "HWgi8CYSK9VI"
      },
      "outputs": [],
      "source": [
        "def Floyd_Warshall(matrix, n):\n",
        "  # do something\n",
        "  \n",
        "\n",
        "  return matrix"
      ]
    },
    {
      "cell_type": "code",
      "execution_count": null,
      "metadata": {
        "id": "JWRbbiYPLHi3"
      },
      "outputs": [],
      "source": [
        "inf = float('inf')\n",
        "matrix = [[0, 3, inf, 7],\n",
        "          [8, 0, 2, inf],\n",
        "          [5, inf, 0, 1],\n",
        "          [2, inf, inf, 0]]\n",
        "\n",
        "solution = Floyd_Warshall(matrix, len(matrix))\n",
        "for row in solution:\n",
        "  print(row)"
      ]
    }
  ],
  "metadata": {
    "colab": {
      "provenance": []
    },
    "kernelspec": {
      "display_name": "Python 3",
      "name": "python3"
    },
    "language_info": {
      "name": "python"
    }
  },
  "nbformat": 4,
  "nbformat_minor": 0
}
