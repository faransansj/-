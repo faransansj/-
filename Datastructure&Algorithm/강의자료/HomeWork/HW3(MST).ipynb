{
 "cells": [
  {
   "cell_type": "markdown",
   "metadata": {},
   "source": [
    "## HW3 Minimum spanning tree 알고리즘 조사\n",
    "\n",
    "##### MST 추출 알고리즘 중, Prim 혹은 Sollin 알고리즘 택일 후 조사  \n",
    " \n",
    "1) Core idea  \n",
    "2) Working example  \n",
    "    note) Kruskal 알고리즘 시 활용한 예제 그래프 활용  \n",
    "3) Pseudo code  \n",
    "4) Time complexity  \n",
    "  \n",
    "- 제출 문서: pptx 혹은 pdf"
   ]
  },
  {
   "cell_type": "code",
   "execution_count": null,
   "metadata": {
    "vscode": {
     "languageId": "plaintext"
    }
   },
   "outputs": [],
   "source": []
  }
 ],
 "metadata": {
  "language_info": {
   "name": "python"
  }
 },
 "nbformat": 4,
 "nbformat_minor": 2
}
