{
 "cells": [
  {
   "cell_type": "markdown",
   "metadata": {},
   "source": [
    "# Dynamic programming 기반 TSP 알고리즘 시간 복잡도\n",
    "### Dynamic programming 기법을 적용한 TSP (Traveling Salesman Problem) 알고리즘의 시간 복잡도를 조사하세요.  \n",
    "1. Memoization (Top-down) 혹은 Tabulation (Bottom-up) 여부  \n",
    "2. Pseudocode   \n",
    "3. Time complexity  \n",
    "\n",
    "**About TSP problem**  \n",
    "    Given a list of cities & distances between each pair of cities, what is the shortest  \n",
    "    possible route that visits each city exactly once & returns to the origin city?  \n",
    "\n",
    "    "
   ]
  },
  {
   "cell_type": "markdown",
   "metadata": {},
   "source": [
    "### Top-down vs Bottom-up  \n",
    "sadf"
   ]
  },
  {
   "cell_type": "markdown",
   "metadata": {},
   "source": [
    "### Pseudocode\n",
    "```\n",
    "sadf\n",
    "```"
   ]
  },
  {
   "cell_type": "markdown",
   "metadata": {},
   "source": [
    "### Time complexity   \n",
    "asdf"
   ]
  },
  {
   "cell_type": "markdown",
   "metadata": {},
   "source": [
    "### Implement Code"
   ]
  },
  {
   "cell_type": "markdown",
   "metadata": {},
   "source": [
    "#### test code"
   ]
  },
  {
   "cell_type": "code",
   "execution_count": null,
   "metadata": {},
   "outputs": [],
   "source": [
    "def TSP(start_node, path):\n",
    "    \n",
    "path_matrix = [\n",
    "    [0 ,10 ,15 ,20],\n",
    "    [5 ,0  ,9  ,10],\n",
    "    [6 ,13 ,0  ,12],\n",
    "    [8 ,8  ,9  ,0 ]\n",
    "]"
   ]
  },
  {
   "cell_type": "code",
   "execution_count": 6,
   "metadata": {},
   "outputs": [
    {
     "name": "stdout",
     "output_type": "stream",
     "text": [
      "Minimum cost: 19\n",
      "Path: 0 -> 1 -> 2 -> 3 -> 0\n"
     ]
    },
    {
     "data": {
      "text/plain": [
       "19"
      ]
     },
     "execution_count": 6,
     "metadata": {},
     "output_type": "execute_result"
    }
   ],
   "source": [
    "import sys\n",
    "\n",
    "def tsp(cities, n):\n",
    "    dp = [[sys.maxsize for _ in range(n)] for _ in range(n)]\n",
    "    path = [[[] for _ in range(n)] for _ in range(n)]\n",
    "    \n",
    "    # Initialize base cases\n",
    "    for i in range(n):\n",
    "        dp[i][i] = 0\n",
    "        path[i][i] = [i]\n",
    "        \n",
    "    # Fill the dp table in bottom-up manner\n",
    "    for len in range(2, n+1):\n",
    "        for start in range(n):\n",
    "            end = (start + len - 1) % n\n",
    "            for i in range(start, end):\n",
    "                cost = dp[start][i] + dp[i+1][end] + cities[start][i] + cities[i+1][end]\n",
    "                if cost < dp[start][end]:\n",
    "                    dp[start][end] = cost\n",
    "                    path[start][end] = path[start][i] + path[i+1][end]\n",
    "                    \n",
    "    # Print the minimum cost and path\n",
    "    min_cost = dp[0][n-1]\n",
    "    min_path = path[0][n-1]\n",
    "    print(f\"Minimum cost: {min_cost}\")\n",
    "    print(f\"Path: {' -> '.join(str(city) for city in min_path + [min_path[0]])}\")\n",
    "    return min_cost\n",
    "\n",
    "# Example usage\n",
    "cities = [\n",
    "    [0 ,10 ,15 ,20],\n",
    "    [5 ,0  ,9  ,10],\n",
    "    [6 ,13 ,0  ,12],\n",
    "    [8 ,8  ,9  ,0 ]\n",
    "    ]\n",
    "n = len(cities)\n",
    "tsp(cities, n)"
   ]
  },
  {
   "cell_type": "code",
   "execution_count": 9,
   "metadata": {},
   "outputs": [
    {
     "name": "stdout",
     "output_type": "stream",
     "text": [
      "Minimum cost (starting from city 2): 9223372036854775807\n",
      "No path found.\n"
     ]
    },
    {
     "data": {
      "text/plain": [
       "9223372036854775807"
      ]
     },
     "execution_count": 9,
     "metadata": {},
     "output_type": "execute_result"
    }
   ],
   "source": [
    "import sys\n",
    "\n",
    "def tsp(cities, n, start=0):\n",
    "    dp = [[sys.maxsize for _ in range(n)] for _ in range(n)]\n",
    "    path = [[[] for _ in range(n)] for _ in range(n)]\n",
    "    \n",
    "    # Initialize base cases\n",
    "    for i in range(n):\n",
    "        dp[i][i] = 0\n",
    "        path[i][i] = [i]\n",
    "        \n",
    "    # Fill the dp table in bottom-up manner\n",
    "    for len in range(2, n+1):\n",
    "        for i in range(n):\n",
    "            end = (i + len - 1) % n\n",
    "            for j in range(i, end):\n",
    "                cost = dp[i][j] + dp[j+1][end] + cities[i][j] + cities[j+1][end]\n",
    "                if cost < dp[i][end]:\n",
    "                    dp[i][end] = cost\n",
    "                    path[i][end] = path[i][j] + path[j+1][end]\n",
    "                    \n",
    "    # Print the minimum cost and path\n",
    "    min_cost = dp[start][start-1]\n",
    "    min_path = path[start][start-1]\n",
    "    print(f\"Minimum cost (starting from city {start}): {min_cost}\")\n",
    "    if min_path:\n",
    "        print(f\"Path: {' -> '.join(str(city) for city in min_path + [min_path[0]])}\")\n",
    "    else:\n",
    "        print(\"No path found.\")\n",
    "    return min_cost\n",
    "\n",
    "# Example usage\n",
    "cities = [[0, 10, 15, 20],\n",
    "          [10, 0, 35, 25],\n",
    "          [15, 35, 0, 30],\n",
    "          [20, 25, 30, 0]]\n",
    "\n",
    "n = len(cities)\n",
    "start_city = 2  # Set the starting city\n",
    "tsp(cities, n, start_city)"
   ]
  },
  {
   "cell_type": "code",
   "execution_count": null,
   "metadata": {},
   "outputs": [],
   "source": []
  }
 ],
 "metadata": {
  "kernelspec": {
   "display_name": "Python 3",
   "language": "python",
   "name": "python3"
  },
  "language_info": {
   "codemirror_mode": {
    "name": "ipython",
    "version": 3
   },
   "file_extension": ".py",
   "mimetype": "text/x-python",
   "name": "python",
   "nbconvert_exporter": "python",
   "pygments_lexer": "ipython3",
   "version": "3.10.6"
  }
 },
 "nbformat": 4,
 "nbformat_minor": 2
}
