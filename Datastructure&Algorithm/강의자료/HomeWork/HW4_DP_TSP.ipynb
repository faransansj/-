{
 "cells": [
  {
   "cell_type": "markdown",
   "metadata": {},
   "source": [
    "# Dynamic programming 기반 TSP 알고리즘 시간 복잡도\n",
    "### Dynamic programming 기법을 적용한 TSP (Traveling Salesman Problem) 알고리즘의 시간 복잡도를 조사하세요.  \n",
    "1. Memoization (Top-down) 혹은 Tabulation (Bottom-up) 여부  \n",
    "2. Pseudocode   \n",
    "3. Time complexity"
   ]
  }
 ],
 "metadata": {
  "language_info": {
   "name": "python"
  }
 },
 "nbformat": 4,
 "nbformat_minor": 2
}
