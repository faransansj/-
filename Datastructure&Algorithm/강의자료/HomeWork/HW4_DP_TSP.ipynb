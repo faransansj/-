{
 "cells": [
  {
   "cell_type": "markdown",
   "metadata": {},
   "source": [
    "# Dynamic programming 기반 TSP 알고리즘 시간 복잡도\n",
    "### Dynamic programming 기법을 적용한 TSP (Traveling Salesman Problem) 알고리즘의 시간 복잡도를 조사하세요.  \n",
    "1. Memoization (Top-down) 혹은 Tabulation (Bottom-up) 여부  \n",
    "2. Pseudocode   \n",
    "3. Time complexity  \n",
    "\n",
    "**About TSP problem**  \n",
    "    Given a list of cities & distances between each pair of cities, what is the shortest  \n",
    "    possible route that visits each city exactly once & returns to the origin city?  \n",
    "\n",
    "    "
   ]
  },
  {
   "cell_type": "markdown",
   "metadata": {},
   "source": [
    "### Top-down vs Bottom-up  \n",
    "동적 프로그래밍 기법을 이용한 TSP 알고리즘은  \n",
    "연산한 결과를 저장하여 이를 이용해서  \n",
    "중복되는 연산을 하지않도록 하는  \n",
    "Memorization(Top-down)이다."
   ]
  },
  {
   "cell_type": "markdown",
   "metadata": {},
   "source": [
    "### Pseudocode\n",
    "```c++\n",
    "func TSP(here, visited_cities)\n",
    "\tif visited_cities = {1, 2, 3, ..., n}\n",
    "    \treturn w[here][1]\n",
    "    end\n",
    "    if ((here, visited_cities) ∈ saved_outputs.keys)\n",
    "    \treturn saved_outputs(here, visited_cities)\n",
    "    end\n",
    "    answer = ∞\n",
    "    foreach next_city ∉ visited_cities\n",
    "    \tnew_cost := w[here][next_city] + TSP(next_city, visited_cities ∪ {next_city})\n",
    "        if answer > new_cost\n",
    "        \tanswer = new_cost\n",
    "        end\n",
    "    end\n",
    "    saved_outputs(here, visited_cities) := answer\n",
    "    return answer\n",
    "end\n",
    "```"
   ]
  },
  {
   "cell_type": "markdown",
   "metadata": {},
   "source": [
    "### Time complexity   \n",
    "Visited cities는 총 2^n가지가 있으며 이때 here은 n개 이므로  \n",
    "TSP는 n* 2^n번 실행된다.  \n",
    "\n",
    "이때 n개의 next city를 고려해야 함으로 n번의 연산이 필요하다.  \n",
    "따라서 TSP 알고리즘의 시간복잡도는 O(n^2 * 2^n)이다. "
   ]
  },
  {
   "cell_type": "markdown",
   "metadata": {},
   "source": [
    "### Implement Code"
   ]
  },
  {
   "cell_type": "code",
   "execution_count": 27,
   "metadata": {},
   "outputs": [
    {
     "name": "stdout",
     "output_type": "stream",
     "text": [
      "35\n"
     ]
    }
   ],
   "source": [
    "from sys import maxsize\n",
    "\n",
    "#input data\n",
    "weight_matrix = [\n",
    "    [0 ,10 ,15 ,20],\n",
    "    [5 ,0  ,9  ,10],\n",
    "    [6 ,13 ,0  ,12],\n",
    "    [8 ,8  ,9  ,0 ]\n",
    "]\n",
    "n = len(weight_matrix)\n",
    "saved_outputs = {}\n",
    "\n",
    "#TSP\n",
    "def TSP(here, visited_cities, n, weight_matrix, saved_outputs):\n",
    "    #도시 다 방문하면 비용 리턴\n",
    "    if len(visited_cities) == n:\n",
    "        return weight_matrix[here][0]\n",
    "    #이미 계산한거 있으면 재사용\n",
    "    if (here, tuple(visited_cities)) in saved_outputs:\n",
    "        return saved_outputs[(here, tuple(visited_cities))]\n",
    "    #미방문 도시 방문\n",
    "    answer = maxsize\n",
    "\n",
    "    for next_city in range(n):\n",
    "        if next_city not in visited_cities:\n",
    "            new_cost = weight_matrix[here][next_city] + TSP(next_city, visited_cities + [next_city], n, weight_matrix, saved_outputs)\n",
    "            answer = min(answer, new_cost)\n",
    "    #결과 저장\n",
    "    saved_outputs[(here, tuple(visited_cities))] = answer\n",
    "\n",
    "    return answer\n",
    "\n",
    "val = TSP(0, [], n, weight_matrix, saved_outputs)\n",
    "print(val)"
   ]
  },
  {
   "cell_type": "code",
   "execution_count": 32,
   "metadata": {},
   "outputs": [
    {
     "name": "stdout",
     "output_type": "stream",
     "text": [
      "35\n"
     ]
    }
   ],
   "source": [
    "from sys import maxsize\n",
    "\n",
    "weight_matrix = [\n",
    "    [0, 10, 15, 20],\n",
    "    [5, 0, 9, 10], \n",
    "    [6, 13, 0, 12],\n",
    "    [8, 8, 9, 0]\n",
    "]\n",
    "n = len(weight_matrix)\n",
    "\n",
    "def tsp_min_cost(start_node=0):\n",
    "    min_cost = maxsize\n",
    "    \n",
    "    stack = [(start_node, {start_node}, 0)]\n",
    "\n",
    "    while stack:\n",
    "        node, visited, cost = stack.pop()\n",
    "\n",
    "        # 모든 노드를 방문했을 때\n",
    "        if len(visited) == n:\n",
    "            cost += weight_matrix[node][start_node]\n",
    "            min_cost = min(min_cost, cost)\n",
    "            continue\n",
    "\n",
    "        for next_node in range(n):\n",
    "            if next_node not in visited:\n",
    "                new_visited = visited.copy()\n",
    "                new_visited.add(next_node)\n",
    "                new_cost = cost + weight_matrix[node][next_node]\n",
    "                stack.append((next_node, new_visited, new_cost))\n",
    "\n",
    "    return min_cost\n",
    "\n",
    "print(tsp_min_cost())"
   ]
  }
 ],
 "metadata": {
  "kernelspec": {
   "display_name": "Python 3",
   "language": "python",
   "name": "python3"
  },
  "language_info": {
   "codemirror_mode": {
    "name": "ipython",
    "version": 3
   },
   "file_extension": ".py",
   "mimetype": "text/x-python",
   "name": "python",
   "nbconvert_exporter": "python",
   "pygments_lexer": "ipython3",
   "version": "3.10.6"
  }
 },
 "nbformat": 4,
 "nbformat_minor": 2
}
