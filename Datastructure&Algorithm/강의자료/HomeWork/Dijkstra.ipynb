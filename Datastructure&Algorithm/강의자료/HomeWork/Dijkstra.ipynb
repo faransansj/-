{
 "cells": [
  {
   "cell_type": "code",
   "execution_count": 1,
   "metadata": {},
   "outputs": [],
   "source": [
    "class Node:\n",
    "  def __init__(self, data):\n",
    "    self.data = data\n",
    "    self.edges = list()\n",
    "    self.dist = None\n",
    "    self.vsit = None\n",
    "\n",
    "  def __str__(self):\n",
    "    return self.data\n",
    "\n",
    "  def add_edge(self, neighbor, weight):\n",
    "    self.edges.append((neighbor, weight))"
   ]
  },
  {
   "cell_type": "code",
   "execution_count": 2,
   "metadata": {},
   "outputs": [],
   "source": [
    "import numpy as np\n",
    "\n",
    "class Graph:\n",
    "  def __init__(self):\n",
    "    self.nodes = dict()\n",
    "\n",
    "  def __str__(self):\n",
    "    msg = ''\n",
    "    for key in self.nodes:\n",
    "      node = self.nodes[key]\n",
    "      msg += node.data + ': '\n",
    "      for edge in node.edges:\n",
    "        msg += edge[0].data + '(' + str(edge[1]) + ') '\n",
    "      msg += '\\n'\n",
    "    if msg != '':\n",
    "      msg = msg[:len(msg)-1]\n",
    "    return msg\n",
    "\n",
    "  def insert_info(self, data_tuple):\n",
    "    data_i = data_tuple[0]\n",
    "    data_j = data_tuple[1]\n",
    "    weight = data_tuple[2]\n",
    "\n",
    "    node_i = self.get_node(data_i)\n",
    "    node_j = self.get_node(data_j)\n",
    "\n",
    "    node_i.add_edge(node_j, weight)\n",
    "    node_j.add_edge(node_i, weight)\n",
    "\n",
    "  def get_node(self, data):\n",
    "    if data not in self.nodes:\n",
    "      node = Node(data)\n",
    "      self.nodes[data] = node\n",
    "    return self.nodes[data]\n",
    "\n",
    "  def Dijkstra(self, source_data):\n",
    "    Q = list()\n",
    "    for key in self.nodes:\n",
    "        self.nodes[key].vsit = False\n",
    "        self.nodes[key].dist = np.inf\n",
    "        Q.append(self.nodes[key])\n",
    "    source = self.get_node(source_data)\n",
    "    source.dist = 0\n",
    "    while len(Q) > 0:\n",
    "        v = Graph.get_closest_node(Q)\n",
    "        Q.remove(v)\n",
    "        v.vsit = True\n",
    "        for edge in v.edges:\n",
    "            n = edge[0]\n",
    "            if n.vsit == False:\n",
    "                dist = v.dist + edge[1]\n",
    "                if dist < n.dist:\n",
    "                    n.dist = dist\n",
    "                    n.parent = v  \n",
    "    source_node = self.get_node(source_data)\n",
    "    print(f\"{source_node} ({source_node.dist})\")  \n",
    "    for key in self.nodes:\n",
    "        node = self.nodes[key]\n",
    "        if node != source_node:\n",
    "            path = []\n",
    "            current_node = node\n",
    "            while current_node != source_node:\n",
    "                path.append(str(current_node))\n",
    "                current_node = current_node.parent\n",
    "            path.append(str(source_node))\n",
    "            path.reverse()\n",
    "            path_string = \" > \".join(path)\n",
    "            print(f\"{path_string} ({node.dist})\")\n",
    "\n",
    "  def get_closest_node(Q):\n",
    "    min_dist = np.inf\n",
    "    min_node = None\n",
    "    for node in Q:\n",
    "      if node.dist < min_dist:\n",
    "        min_dist = node.dist\n",
    "        min_node = node\n",
    "    return min_node"
   ]
  },
  {
   "cell_type": "code",
   "execution_count": 3,
   "metadata": {},
   "outputs": [
    {
     "name": "stdout",
     "output_type": "stream",
     "text": [
      "A: B(4) C(3) E(7) \n",
      "B: A(4) C(6) D(5) \n",
      "C: A(3) B(6) D(11) E(8) \n",
      "E: A(7) C(8) G(5) \n",
      "D: B(5) C(11) F(2) G(10) \n",
      "F: D(2) G(3) \n",
      "G: D(10) E(5) F(3) \n"
     ]
    }
   ],
   "source": [
    "graph = Graph()\n",
    "data_tuples = [('A', 'B', 4), ('A', 'C', 3), ('A', 'E', 7),\n",
    "              ('B', 'C', 6), ('B', 'D', 5),\n",
    "              ('C', 'D', 11),('C', 'E', 8),\n",
    "              ('D', 'F', 2), ('D', 'G', 10),\n",
    "              ('E', 'G', 5), ('F', 'G', 3)]\n",
    "for data_tuple in data_tuples:\n",
    "  graph.insert_info(data_tuple)\n",
    "print(graph)"
   ]
  },
  {
   "cell_type": "code",
   "execution_count": 4,
   "metadata": {},
   "outputs": [
    {
     "name": "stdout",
     "output_type": "stream",
     "text": [
      "A (0)\n",
      "A > B (4)\n",
      "A > C (3)\n",
      "A > E (7)\n",
      "A > B > D (9)\n",
      "A > B > D > F (11)\n",
      "A > E > G (12)\n"
     ]
    }
   ],
   "source": [
    "graph.Dijkstra('A')"
   ]
  }
 ],
 "metadata": {
  "kernelspec": {
   "display_name": "Python 3",
   "language": "python",
   "name": "python3"
  },
  "language_info": {
   "codemirror_mode": {
    "name": "ipython",
    "version": 3
   },
   "file_extension": ".py",
   "mimetype": "text/x-python",
   "name": "python",
   "nbconvert_exporter": "python",
   "pygments_lexer": "ipython3",
   "version": "3.11.1"
  }
 },
 "nbformat": 4,
 "nbformat_minor": 2
}
