{
  "nbformat": 4,
  "nbformat_minor": 0,
  "metadata": {
    "colab": {
      "provenance": []
    },
    "kernelspec": {
      "name": "python3",
      "display_name": "Python 3"
    },
    "language_info": {
      "name": "python"
    }
  },
  "cells": [
    {
      "cell_type": "code",
      "source": [
        "class Node:\n",
        "  def __init__(self, data):\n",
        "    self.data = data\n",
        "    self.left = None\n",
        "    self.right = None\n",
        "    self.height = 1\n",
        "\n",
        "  def __str__(self):\n",
        "    return str(self.data)"
      ],
      "metadata": {
        "id": "fVDvr-R-T9qJ"
      },
      "execution_count": 1,
      "outputs": []
    },
    {
      "cell_type": "code",
      "source": [
        "class AvlTree():\n",
        "\n",
        "  def __init__(self):\n",
        "    self.root = None\n",
        "\n",
        "  def __str__(self):\n",
        "    level = 0\n",
        "    msg = AvlTree.concatenate_node_info(self.root, level, 'root')\n",
        "    return msg\n",
        "\n",
        "  @staticmethod\n",
        "  def concatenate_node_info(node, level, role):\n",
        "    msg = ''\n",
        "    for i in range(level):\n",
        "      msg += '|    '\n",
        "    msg += '+--- ' + str(node.data) + ' (' + role + ', '\n",
        "    if node.left is None:\n",
        "      msg += '0'\n",
        "    else:\n",
        "      msg += str(node.left.height)\n",
        "    msg += ':'\n",
        "    if node.right is None:\n",
        "      msg += '0'\n",
        "    else:\n",
        "      msg += str(node.right.height)\n",
        "    msg += ')\\n'\n",
        "\n",
        "    if node.left:\n",
        "      msg += AvlTree.concatenate_node_info(node.left, level+1, 'left')\n",
        "    if node.right:\n",
        "      msg += AvlTree.concatenate_node_info(node.right, level+1, 'right')\n",
        "\n",
        "    return msg\n",
        "\n",
        "  def insert(self, data):\n",
        "    self.root = self.insert_node(self.root, data)\n",
        "\n",
        "  def insert_node(self, parent, data):\n",
        "    # Step I: Do binary search for insertion of new node\n",
        "    if parent is None:\n",
        "      return Node(data)\n",
        "    elif data < parent.data:\n",
        "      parent.left = self.insert_node(parent.left, data)\n",
        "    else:\n",
        "      parent.right = self.insert_node(parent.right, data)\n",
        "\n",
        "    # Step II: Update height of parent node\n",
        "    parent.height = 1 + max(self.get_height(parent.left), self.get_height(parent.right))\n",
        "\n",
        "    # Step III: Get height difference btw left & right subtree\n",
        "    diff = self.get_difference(parent)\n",
        "\n",
        "    # Step IV: Make it balanced\n",
        "    # Case I: LL-case\n",
        "    if diff > 1 and data < parent.left.data:\n",
        "      return self.rotate_right(parent)\n",
        "\n",
        "    # Case II: RR-case\n",
        "    if diff < -1 and data > parent.right.data:\n",
        "      return self.rotate_left(parent)\n",
        "\n",
        "    # Case III: LR-case\n",
        "    if diff > 1 and data > parent.left.data:\n",
        "      parent.left = self.rotate_left(parent.left)\n",
        "      return self.rotate_right(parent)\n",
        "\n",
        "    # Case IV: RL-case\n",
        "    if diff < -1 and data < parent.right.data:\n",
        "      parent.right = self.rotate_right(parent.right)\n",
        "      return self.rotate_left(parent)\n",
        "\n",
        "    return parent\n",
        "\n",
        "  def rotate_left(self, z):\n",
        "    # Perform rotation (Link/edge update)\n",
        "    # Update heights\n",
        "    # Return the new root of subtree\n",
        "    ...\n",
        "\n",
        "  def rotate_right(self, z):\n",
        "    # Perform rotation (Link/edge update)\n",
        "    # Update heights\n",
        "    # Return the new root of subtree\n",
        "    ...\n",
        "\n",
        "  def get_height(self, node):\n",
        "    if node is None:\n",
        "      return 0\n",
        "\n",
        "    return node.height\n",
        "\n",
        "  def get_difference(self, node):\n",
        "    if node is None:\n",
        "      return 0\n",
        "\n",
        "    return self.get_height(node.left) - self.get_height(node.right)"
      ],
      "metadata": {
        "id": "GX89Vu9kT-m7"
      },
      "execution_count": 2,
      "outputs": []
    },
    {
      "cell_type": "code",
      "source": [
        "data_list = [10, 20, 30, 40, 50, 25]\n",
        "tree = AvlTree()\n",
        "for data in data_list:\n",
        "  tree.insert(data)\n",
        "\n",
        "print(tree)"
      ],
      "metadata": {
        "id": "chqP4ynHUOsY"
      },
      "execution_count": null,
      "outputs": []
    }
  ]
}