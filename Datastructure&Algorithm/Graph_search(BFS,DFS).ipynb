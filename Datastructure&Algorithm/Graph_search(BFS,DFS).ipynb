{
 "cells": [
  {
   "cell_type": "markdown",
   "metadata": {},
   "source": [
    "### BFS (Breadth First Search)"
   ]
  },
  {
   "cell_type": "code",
   "execution_count": 47,
   "metadata": {},
   "outputs": [],
   "source": [
    "class Node:\n",
    "  def __init__(self, data):\n",
    "    self.data = data\n",
    "    self.check = False          # 플래그 역할을 한다.\n",
    "    self.neighbors = list()     # edge를 표현하기 위해 list씀\n",
    "\n",
    "  def __str__(self):\n",
    "    return self.data\n",
    "\n",
    "  def add_neigbor(self, neighbor):\n",
    "    self.neighbors.append(neighbor)"
   ]
  },
  {
   "cell_type": "code",
   "execution_count": 48,
   "metadata": {},
   "outputs": [],
   "source": [
    "class Queue:\n",
    "  def __init__(self):\n",
    "    self.items = list()\n",
    "\n",
    "  def __str__(self):\n",
    "    return self.items\n",
    "\n",
    "  def enqueue(self, new_node):\n",
    "    self.items.append(new_node)\n",
    "\n",
    "  def dequeue(self):\n",
    "    return self.items.pop(0)    #FIFO (first in first out)\n",
    "\n",
    "  def get_size(self):\n",
    "    return len(self.items)      #종료조건"
   ]
  },
  {
   "cell_type": "code",
   "execution_count": 49,
   "metadata": {},
   "outputs": [],
   "source": [
    "class Graph:\n",
    "  def __init__(self):\n",
    "    self.nodes = dict()\n",
    "\n",
    "  def __str__(self):\n",
    "    msg = ''\n",
    "    for key in self.nodes:\n",
    "      node = self.nodes[key]\n",
    "      msg += node.data + ': '\n",
    "      for neighbor in node.neighbors:\n",
    "        msg += neighbor.data + ' '\n",
    "      msg += '\\n'\n",
    "    if msg != '':\n",
    "      msg = msg[:len(msg)-1]\n",
    "    return msg\n",
    "\n",
    "  def insert_info(self, data_pair):\n",
    "    data_i = data_pair[0]\n",
    "    data_j = data_pair[1]\n",
    "\n",
    "    node_i = self.get_node(data_i)\n",
    "    node_j = self.get_node(data_j)\n",
    "\n",
    "    node_i.add_neigbor(node_j)\n",
    "    node_j.add_neigbor(node_i)\n",
    "\n",
    "  def get_node(self, data):\n",
    "    if data not in self.nodes:\n",
    "      node = Node(data)\n",
    "      self.nodes[data] = node\n",
    "    return self.nodes[data]\n",
    "\n",
    "  def bfs(self, start_data):\n",
    "    if start_data not in self.nodes:\n",
    "      print(f'there is no such a node with  {start_data}', end='')\n",
    "    else:\n",
    "      start_node = self.nodes[start_data]\n",
    "      for key in self.nodes:\n",
    "        self.nodes[key].check = False\n",
    "\n",
    "\n",
    "      distance = 0 \n",
    "      # Do something\n",
    "      queue = Queue()\n",
    "      start_node.check = True\n",
    "      queue.enqueue(start_node)\n",
    "\n",
    "      while queue.get_size() > 0:\n",
    "        curr_node = queue.dequeue()\n",
    "        print(curr_node.data, end='')\n",
    "      \n",
    "        for neighbor in curr_node.neighbors:\n",
    "          if not neighbor.check:\n",
    "            distance += 1\n",
    "            neighbor.check = True\n",
    "            queue.enqueue(neighbor)\n",
    "      print()\n",
    "      print(f'distance : {distance}')\n",
    "\n",
    "  def dfs(self, start_data):\n",
    "    if start_data not in self.nodes:\n",
    "      print(f'there is no such a node with {start_data}', end='')\n",
    "    \n",
    "    else:\n",
    "      start_node = self.nodes[start_data]\n",
    "    \n",
    "      for key in self.nodes:\n",
    "        self.nodes[key].check = False   #flag를 전부 초기화 해주는 역할을 해준다.\n",
    "      self.drill(start_node)\n",
    "\n",
    "  def drill(self, node):\n",
    "    # Do something\n",
    "    if not node.check:\n",
    "            node.check = True\n",
    "            print(node.data, end='')\n",
    "            for neighbor in node.neighbors:\n",
    "                if not neighbor.check:\n",
    "                    self.drill(neighbor)"
   ]
  },
  {
   "cell_type": "code",
   "execution_count": 50,
   "metadata": {},
   "outputs": [
    {
     "name": "stdout",
     "output_type": "stream",
     "text": [
      "A: B I \n",
      "B: A \n",
      "I: A C G \n",
      "C: I D E F \n",
      "G: I F H \n",
      "D: C \n",
      "E: C H \n",
      "F: C G \n",
      "H: G E \n"
     ]
    }
   ],
   "source": [
    "graph = Graph()\n",
    "data_pairs = [('A', 'B'), ('A', 'I'), ('I', 'C'), ('I', 'G'),\n",
    "              ('C', 'D'), ('C', 'E'), ('C', 'F'),\n",
    "              ('G', 'F'), ('G', 'H'), ('E', 'H')]\n",
    "for data_pair in data_pairs:\n",
    "  graph.insert_info(data_pair)\n",
    "print(graph)"
   ]
  },
  {
   "cell_type": "code",
   "execution_count": 51,
   "metadata": {},
   "outputs": [
    {
     "name": "stdout",
     "output_type": "stream",
     "text": [
      "Start with X: there is no such a node with  X\n",
      "Start with A: ABICGDEFH\n",
      "distance : 8\n",
      "\n",
      "Start with C: IACGBDEFH\n",
      "distance : 8\n",
      "\n",
      "Start with E: ECHIDFGAB\n",
      "distance : 8\n"
     ]
    }
   ],
   "source": [
    "print('Start with X: ', end='')\n",
    "graph.bfs('X')\n",
    "\n",
    "print('\\nStart with A: ', end='')\n",
    "graph.bfs('A')\n",
    "\n",
    "print('\\nStart with C: ', end='')\n",
    "graph.bfs('I')\n",
    "\n",
    "print('\\nStart with E: ', end='')\n",
    "graph.bfs('E')"
   ]
  },
  {
   "cell_type": "code",
   "execution_count": 52,
   "metadata": {},
   "outputs": [
    {
     "name": "stdout",
     "output_type": "stream",
     "text": [
      "Start with X: there is no such a node with X\n",
      "Start with A: A"
     ]
    },
    {
     "ename": "NameError",
     "evalue": "name 'distance' is not defined",
     "output_type": "error",
     "traceback": [
      "\u001b[1;31m---------------------------------------------------------------------------\u001b[0m",
      "\u001b[1;31mNameError\u001b[0m                                 Traceback (most recent call last)",
      "Cell \u001b[1;32mIn[52], line 4\u001b[0m\n\u001b[0;32m      2\u001b[0m graph\u001b[38;5;241m.\u001b[39mdfs(\u001b[38;5;124m'\u001b[39m\u001b[38;5;124mX\u001b[39m\u001b[38;5;124m'\u001b[39m)\n\u001b[0;32m      3\u001b[0m \u001b[38;5;28mprint\u001b[39m(\u001b[38;5;124m'\u001b[39m\u001b[38;5;130;01m\\n\u001b[39;00m\u001b[38;5;124mStart with A: \u001b[39m\u001b[38;5;124m'\u001b[39m, end\u001b[38;5;241m=\u001b[39m\u001b[38;5;124m'\u001b[39m\u001b[38;5;124m'\u001b[39m)\n\u001b[1;32m----> 4\u001b[0m \u001b[43mgraph\u001b[49m\u001b[38;5;241;43m.\u001b[39;49m\u001b[43mdfs\u001b[49m\u001b[43m(\u001b[49m\u001b[38;5;124;43m'\u001b[39;49m\u001b[38;5;124;43mA\u001b[39;49m\u001b[38;5;124;43m'\u001b[39;49m\u001b[43m)\u001b[49m\n",
      "Cell \u001b[1;32mIn[49], line 69\u001b[0m, in \u001b[0;36mGraph.dfs\u001b[1;34m(self, start_data)\u001b[0m\n\u001b[0;32m     67\u001b[0m \u001b[38;5;28;01mfor\u001b[39;00m key \u001b[38;5;129;01min\u001b[39;00m \u001b[38;5;28mself\u001b[39m\u001b[38;5;241m.\u001b[39mnodes:\n\u001b[0;32m     68\u001b[0m   \u001b[38;5;28mself\u001b[39m\u001b[38;5;241m.\u001b[39mnodes[key]\u001b[38;5;241m.\u001b[39mcheck \u001b[38;5;241m=\u001b[39m \u001b[38;5;28;01mFalse\u001b[39;00m   \u001b[38;5;66;03m#flag를 전부 초기화 해주는 역할을 해준다.\u001b[39;00m\n\u001b[1;32m---> 69\u001b[0m \u001b[38;5;28;43mself\u001b[39;49m\u001b[38;5;241;43m.\u001b[39;49m\u001b[43mdrill\u001b[49m\u001b[43m(\u001b[49m\u001b[43mstart_node\u001b[49m\u001b[43m)\u001b[49m\n",
      "Cell \u001b[1;32mIn[49], line 78\u001b[0m, in \u001b[0;36mGraph.drill\u001b[1;34m(self, node)\u001b[0m\n\u001b[0;32m     76\u001b[0m \u001b[38;5;28;01mfor\u001b[39;00m neighbor \u001b[38;5;129;01min\u001b[39;00m node\u001b[38;5;241m.\u001b[39mneighbors:\n\u001b[0;32m     77\u001b[0m     \u001b[38;5;28;01mif\u001b[39;00m \u001b[38;5;129;01mnot\u001b[39;00m neighbor\u001b[38;5;241m.\u001b[39mcheck:\n\u001b[1;32m---> 78\u001b[0m         \u001b[38;5;28mself\u001b[39m\u001b[38;5;241m.\u001b[39mdrill(neighbor, \u001b[43mdistance\u001b[49m)\n",
      "\u001b[1;31mNameError\u001b[0m: name 'distance' is not defined"
     ]
    }
   ],
   "source": [
    "print('Start with X: ', end='')\n",
    "graph.dfs('X')\n",
    "print('\\nStart with A: ', end='')\n",
    "graph.dfs('A')"
   ]
  },
  {
   "cell_type": "code",
   "execution_count": null,
   "metadata": {},
   "outputs": [],
   "source": []
  }
 ],
 "metadata": {
  "kernelspec": {
   "display_name": "Python 3",
   "language": "python",
   "name": "python3"
  },
  "language_info": {
   "codemirror_mode": {
    "name": "ipython",
    "version": 3
   },
   "file_extension": ".py",
   "mimetype": "text/x-python",
   "name": "python",
   "nbconvert_exporter": "python",
   "pygments_lexer": "ipython3",
   "version": "3.11.1"
  }
 },
 "nbformat": 4,
 "nbformat_minor": 2
}
