{
 "cells": [
  {
   "cell_type": "markdown",
   "metadata": {},
   "source": [
    "# Dynamic programming 기반 TSP 알고리즘 시간 복잡도\n",
    "### Dynamic programming 기법을 적용한 TSP (Traveling Salesman Problem) 알고리즘의 시간 복잡도를 조사하세요.  \n",
    "1. Memoization (Top-down) 혹은 Tabulation (Bottom-up) 여부  \n",
    "2. Pseudocode   \n",
    "3. Time complexity  \n",
    "\n",
    "**About TSP problem**  \n",
    "    Given a list of cities & distances between each pair of cities, what is the shortest  \n",
    "    possible route that visits each city exactly once & returns to the origin city?  \n",
    "\n",
    "    "
   ]
  },
  {
   "cell_type": "markdown",
   "metadata": {},
   "source": [
    "### Top-down vs Bottom-up  \n",
    "sadf"
   ]
  },
  {
   "cell_type": "markdown",
   "metadata": {},
   "source": [
    "### Pseudocode\n",
    "```\n",
    "\n",
    "```"
   ]
  },
  {
   "cell_type": "markdown",
   "metadata": {},
   "source": [
    "### Time complexity   \n",
    "asdf"
   ]
  },
  {
   "cell_type": "markdown",
   "metadata": {},
   "source": [
    "### Implement Code"
   ]
  },
  {
   "cell_type": "markdown",
   "metadata": {},
   "source": [
    "#### test code"
   ]
  },
  {
   "cell_type": "code",
   "execution_count": null,
   "metadata": {},
   "outputs": [],
   "source": [
    "   \n",
    "path_matrix = [\n",
    "    [0 ,10 ,15 ,20],\n",
    "    [5 ,0  ,9  ,10],\n",
    "    [6 ,13 ,0  ,12],\n",
    "    [8 ,8  ,9  ,0 ]\n",
    "]"
   ]
  },
  {
   "cell_type": "code",
   "execution_count": 6,
   "metadata": {},
   "outputs": [
    {
     "name": "stdout",
     "output_type": "stream",
     "text": [
      "Minimum cost: 19\n",
      "Path: 0 -> 1 -> 2 -> 3 -> 0\n"
     ]
    },
    {
     "data": {
      "text/plain": [
       "19"
      ]
     },
     "execution_count": 6,
     "metadata": {},
     "output_type": "execute_result"
    }
   ],
   "source": [
    "import sys\n",
    "\n",
    "def tsp(cities, n):\n",
    "    dp = [[sys.maxsize for _ in range(n)] for _ in range(n)]\n",
    "    path = [[[] for _ in range(n)] for _ in range(n)]\n",
    "    \n",
    "    # Initialize base cases\n",
    "    for i in range(n):\n",
    "        dp[i][i] = 0\n",
    "        path[i][i] = [i]\n",
    "        \n",
    "    # Fill the dp table in bottom-up manner\n",
    "    for len in range(2, n+1):\n",
    "        for start in range(n):\n",
    "            end = (start + len - 1) % n\n",
    "            for i in range(start, end):\n",
    "                cost = dp[start][i] + dp[i+1][end] + cities[start][i] + cities[i+1][end]\n",
    "                if cost < dp[start][end]:\n",
    "                    dp[start][end] = cost\n",
    "                    path[start][end] = path[start][i] + path[i+1][end]\n",
    "                    \n",
    "    # Print the minimum cost and path\n",
    "    min_cost = dp[0][n-1]\n",
    "    min_path = path[0][n-1]\n",
    "    print(f\"Minimum cost: {min_cost}\")\n",
    "    print(f\"Path: {' -> '.join(str(city) for city in min_path + [min_path[0]])}\")\n",
    "    return min_cost\n",
    "\n",
    "# Example usage\n",
    "cities = [\n",
    "    [0 ,10 ,15 ,20],\n",
    "    [5 ,0  ,9  ,10],\n",
    "    [6 ,13 ,0  ,12],\n",
    "    [8 ,8  ,9  ,0 ]\n",
    "    ]\n",
    "n = len(cities)\n",
    "tsp(cities, n)"
   ]
  },
  {
   "cell_type": "code",
   "execution_count": null,
   "metadata": {},
   "outputs": [
    {
     "name": "stdout",
     "output_type": "stream",
     "text": [
      "최소 비용: 35\n"
     ]
    }
   ],
   "source": [
    "from sys import maxsize\n",
    "\n",
    "def TSP(here, visited_cities, n, w, saved_outputs):\n",
    "    # 모든 도시를 방문했으면, 마지막 도시에서 출발 도시로 가는 비용을 반환\n",
    "    if len(visited_cities) == n:\n",
    "        return w[here][0]\n",
    "    \n",
    "    # 이미 계산한 결과가 있으면 그 결과를 반환\n",
    "    if (here, tuple(visited_cities)) in saved_outputs:\n",
    "        return saved_outputs[(here, tuple(visited_cities))]\n",
    "    \n",
    "    # 최소 비용을 찾기 위해 무한대로 초기화\n",
    "    answer = maxsize\n",
    "    \n",
    "    # 방문하지 않은 도시들에 대해 순회\n",
    "    for next_city in range(n):\n",
    "        if next_city not in visited_cities:\n",
    "            # 다음 도시로 가는 비용에 그 도시에서 출발하여 남은 도시들을 방문하는 최소 비용을 더함\n",
    "            new_cost = w[here][next_city] + TSP(next_city, visited_cities + [next_city], n, w, saved_outputs)\n",
    "            answer = min(answer, new_cost)\n",
    "    \n",
    "    # 계산 결과를 저장\n",
    "    saved_outputs[(here, tuple(visited_cities))] = answer\n",
    "    \n",
    "    return answer\n",
    "\n",
    "# 사용 예시\n",
    "w = [\n",
    "    [0 ,10 ,15 ,20],\n",
    "    [5 ,0  ,9  ,10],\n",
    "    [6 ,13 ,0  ,12],\n",
    "    [8 ,8  ,9  ,0 ]\n",
    "    ]  \n",
    "# 가중치 행렬\n",
    "\n",
    "n = len(w) # 도시 수\n",
    "\n",
    "saved_outputs = {}  # 메모이제이션을 위한 딕셔너리\n",
    "\n",
    "# 출발 도시를 0으로 가정하고 TSP 함수 호출\n",
    "result = TSP(0, [], n, w, saved_outputs)\n",
    "print(f\"최소 비용: {result}\")"
   ]
  },
  {
   "cell_type": "code",
   "execution_count": null,
   "metadata": {},
   "outputs": [],
   "source": []
  },
  {
   "cell_type": "markdown",
   "metadata": {},
   "source": [
    "#### Main Code"
   ]
  },
  {
   "cell_type": "code",
   "execution_count": 6,
   "metadata": {},
   "outputs": [
    {
     "name": "stdout",
     "output_type": "stream",
     "text": [
      "35\n"
     ]
    }
   ],
   "source": [
    "from sys import maxsize\n",
    "\n",
    "#input data\n",
    "weight_matrix = [\n",
    "    [0 ,10 ,15 ,20],\n",
    "    [5 ,0  ,9  ,10],\n",
    "    [6 ,13 ,0  ,12],\n",
    "    [8 ,8  ,9  ,0 ]\n",
    "]\n",
    "n = len(weight_matrix)\n",
    "saved_outputs = {}\n",
    "\n",
    "#TSP\n",
    "def TSP(here, visited_cities, n, weight_matrix, saved_outputs):\n",
    "    #도시 다 방문하면 비용 리턴\n",
    "    if len(visited_cities) == n:\n",
    "        return weight_matrix[here][0]\n",
    "    #이미 계산한거 있으면 재사용\n",
    "    if (here, tuple(visited_cities)) in saved_outputs:\n",
    "        return saved_outputs[(here, tuple(visited_cities))]\n",
    "    #미방문 도시 방문\n",
    "    answer = maxsize\n",
    "\n",
    "    for next_city in range(n):\n",
    "        if next_city not in visited_cities:\n",
    "            new_cost = weight_matrix[here][next_city] + TSP(next_city, visited_cities + [next_city], n, weight_matrix, saved_outputs)\n",
    "            answer = min(answer, new_cost)\n",
    "    #결과 저장\n",
    "    saved_outputs[(here, tuple(visited_cities))] = answer\n",
    "\n",
    "    return answer\n",
    "\n",
    "val = TSP(0, [], n, weight_matrix, saved_outputs)\n",
    "print(val)"
   ]
  },
  {
   "cell_type": "code",
   "execution_count": 8,
   "metadata": {},
   "outputs": [
    {
     "name": "stdout",
     "output_type": "stream",
     "text": [
      "최소 비용: 35\n",
      "최소 경로: 0 -> 0 -> 1 -> 3 -> 0 -> 0 -> 1 -> 3 -> 2 -> 0\n"
     ]
    }
   ],
   "source": [
    "from sys import maxsize\n",
    "\n",
    "# 입력 데이터\n",
    "weight_matrix = [\n",
    "    [0, 10, 15, 20],\n",
    "    [5, 0, 9, 10],\n",
    "    [6, 13, 0, 12],\n",
    "    [8, 8, 9, 0]\n",
    "]\n",
    "n = len(weight_matrix)\n",
    "saved_outputs = {}\n",
    "\n",
    "# TSP\n",
    "def TSP(here, visited_cities, n, weight_matrix, saved_outputs):\n",
    "    # 도시 다 방문하면 비용 리턴\n",
    "    if len(visited_cities) == n:\n",
    "        return weight_matrix[here][0], [0] + visited_cities + [0]  # 최소 경로 추가\n",
    "\n",
    "    # 이미 계산한 거 있으면 재사용\n",
    "    if (here, tuple(visited_cities)) in saved_outputs:\n",
    "        return saved_outputs[(here, tuple(visited_cities))]\n",
    "\n",
    "    # 미방문 도시 방문\n",
    "    answer = maxsize\n",
    "    min_path = None  # 최소 경로 초기화\n",
    "\n",
    "    for next_city in range(n):\n",
    "        if next_city not in visited_cities:\n",
    "            new_cost, new_path = TSP(next_city, visited_cities + [next_city], n, weight_matrix, saved_outputs)\n",
    "            new_cost += weight_matrix[here][next_city]\n",
    "            if answer > new_cost:\n",
    "                answer = new_cost\n",
    "                min_path = [here] + new_path  # 경로 추가\n",
    "\n",
    "    # 결과 저장\n",
    "    saved_outputs[(here, tuple(visited_cities))] = (answer, min_path)\n",
    "\n",
    "    return answer, min_path\n",
    "\n",
    "val, path = TSP(0, [], n, weight_matrix, saved_outputs)\n",
    "print(f\"최소 비용: {val}\")\n",
    "print(f\"최소 경로: {' -> '.join(map(str, path))}\")"
   ]
  },
  {
   "cell_type": "code",
   "execution_count": null,
   "metadata": {},
   "outputs": [],
   "source": []
  }
 ],
 "metadata": {
  "kernelspec": {
   "display_name": "Python 3",
   "language": "python",
   "name": "python3"
  },
  "language_info": {
   "codemirror_mode": {
    "name": "ipython",
    "version": 3
   },
   "file_extension": ".py",
   "mimetype": "text/x-python",
   "name": "python",
   "nbconvert_exporter": "python",
   "pygments_lexer": "ipython3",
   "version": "3.10.6"
  }
 },
 "nbformat": 4,
 "nbformat_minor": 2
}
