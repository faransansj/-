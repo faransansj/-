{
  "nbformat": 4,
  "nbformat_minor": 0,
  "metadata": {
    "colab": {
      "provenance": []
    },
    "kernelspec": {
      "name": "python3",
      "display_name": "Python 3"
    },
    "language_info": {
      "name": "python"
    }
  },
  "cells": [
    {
      "cell_type": "code",
      "source": [
        "class Node:\n",
        "  def __init__(self, data):\n",
        "    self.data = data\n",
        "    self.next = None\n",
        "\n",
        "  def __str__(self):\n",
        "    return 'Data: ' + str(self.data)"
      ],
      "metadata": {
        "id": "zhIxoTZZCn6E"
      },
      "execution_count": 4,
      "outputs": []
    },
    {
      "cell_type": "code",
      "source": [
        "class LinkedList:\n",
        "  def __init__(self):\n",
        "    self.head = None\n",
        "\n",
        "  def __str__(self):\n",
        "    msg = ''\n",
        "    current_node = self.head\n",
        "    while current_node is not None:\n",
        "      msg += str(current_node.data)\n",
        "      if current_node.next is not None:\n",
        "        msg += ' -> '\n",
        "      current_node = current_node.next\n",
        "    if len(msg) == 0:\n",
        "      msg = 'Empty linked list'\n",
        "    return msg\n",
        "\n",
        "  def insert(self, data):\n",
        "    new_node = Node(data)\n",
        "    if self.head is None:\n",
        "      self.head = new_node\n",
        "    else:\n",
        "      last_node = self.head\n",
        "      while last_node.next is not None:\n",
        "        last_node = last_node.next\n",
        "      last_node.next = new_node\n",
        "\n",
        "  def search(self, target):\n",
        "    result = None\n",
        "    current_node = self.head\n",
        "    while current_node is not None:\n",
        "      if current_node.data == target:\n",
        "        result = current_node\n",
        "        break\n",
        "      current_node = current_node.next\n",
        "    return result\n",
        "\n",
        "  def delete(self, target):\n",
        "    prev_node = None\n",
        "    current_node = self.head\n",
        "    while current_node is not None:\n",
        "      if current_node.data == target:\n",
        "        if current_node == self.head:\n",
        "          self.head = current_node.next\n",
        "        else:\n",
        "          prev_node.next = current_node.next\n",
        "        break\n",
        "      prev_node = current_node\n",
        "      current_node = current_node.next\n",
        "\n",
        "  def delete_all(self, target):\n",
        "    prev_node = None\n",
        "    current_node = self.head\n",
        "    while current_node is not None:\n",
        "      is_survival = True\n",
        "      if current_node.data == target:\n",
        "        is_survival = False\n",
        "        if current_node == self.head:\n",
        "          self.head = current_node.next\n",
        "        else:\n",
        "          prev_node.next = current_node.next\n",
        "      if is_survival:\n",
        "        prev_node = current_node\n",
        "      current_node = current_node.next"
      ],
      "metadata": {
        "id": "VKT0V8DZCq0e"
      },
      "execution_count": 66,
      "outputs": []
    },
    {
      "cell_type": "code",
      "source": [
        "# create an instance from class LinkedList\n",
        "linked_list = LinkedList()\n",
        "\n",
        "# insert\n",
        "data_list = [12, 99, 37, 24, 56, 12, 88, 12, 12]\n",
        "for data in data_list:\n",
        "  linked_list.insert(data)\n",
        "print(linked_list)\n",
        "print('--------------------------------------------------')\n",
        "\n",
        "# search\n",
        "result = linked_list.search(24)\n",
        "print(result)\n",
        "print(linked_list.search(100)) # non-existing target\n",
        "print('--------------------------------------------------')\n",
        "\n",
        "# delete all nodes matching the target\n",
        "linked_list.delete_all(12)\n",
        "print(linked_list)\n",
        "print('--------------------------------------------------')\n",
        "\n",
        "# delete a single node\n",
        "linked_list.delete(99) # head node\n",
        "print(linked_list)\n",
        "linked_list.delete(24) # node in the middle\n",
        "print(linked_list)\n",
        "linked_list.delete(88) # tail node\n",
        "print(linked_list)\n",
        "linked_list.delete(100) # non-existing node\n",
        "print(linked_list)"
      ],
      "metadata": {
        "id": "KuOeIUmnDbEK"
      },
      "execution_count": null,
      "outputs": []
    }
  ]
}