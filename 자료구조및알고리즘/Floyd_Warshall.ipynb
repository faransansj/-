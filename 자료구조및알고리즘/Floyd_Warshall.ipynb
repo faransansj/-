{
  "cells": [
    {
      "cell_type": "code",
      "execution_count": 3,
      "metadata": {
        "id": "HWgi8CYSK9VI"
      },
      "outputs": [],
      "source": [
        "def Floyd_Warshall(matrix, n):\n",
        "  # do something\n",
        "  for k in range(n):\n",
        "    for i in range(n):\n",
        "      for j in range(n):\n",
        "        if i != k and j != k and i != j:\n",
        "          matrix[i][j] = min(matrix[i][j], matrix[i][k] + matrix[k][j])\n",
        "\n",
        "  return matrix"
      ]
    },
    {
      "cell_type": "code",
      "execution_count": 7,
      "metadata": {
        "id": "JWRbbiYPLHi3"
      },
      "outputs": [
        {
          "name": "stdout",
          "output_type": "stream",
          "text": [
            "[0, 3, 5, 6]\n",
            "[5, 0, 2, 3]\n",
            "[3, 6, 0, 1]\n",
            "[2, 5, 7, 0]\n"
          ]
        }
      ],
      "source": [
        "inf = float('inf')\n",
        "matrix = [[0, 3, inf, 7],\n",
        "          [8, 0, 2, inf],\n",
        "          [5, inf, 0, 1],\n",
        "          [2, inf, inf, 0]]\n",
        "\n",
        "solution = Floyd_Warshall(matrix, len(matrix))\n",
        "for row in solution:\n",
        "  print(row)"
      ]
    },
    {
      "cell_type": "code",
      "execution_count": 6,
      "metadata": {},
      "outputs": [
        {
          "name": "stdout",
          "output_type": "stream",
          "text": [
            "[0, -1, -2, 0]\n",
            "[4, 0, 2, 4]\n",
            "[5, 1, 0, 2]\n",
            "[3, -1, 1, 0]\n"
          ]
        }
      ],
      "source": [
        "inf = float('inf')\n",
        "matrix = [[0, inf, -2, inf],\n",
        "          [4, 0, 3, inf],\n",
        "          [inf, inf, 0, 2],\n",
        "          [inf, -1, inf, 0]]\n",
        "\n",
        "solution = Floyd_Warshall(matrix, len(matrix))\n",
        "for row in solution:\n",
        "  print(row)"
      ]
    },
    {
      "cell_type": "code",
      "execution_count": null,
      "metadata": {},
      "outputs": [],
      "source": []
    }
  ],
  "metadata": {
    "colab": {
      "provenance": []
    },
    "kernelspec": {
      "display_name": "Python 3",
      "name": "python3"
    },
    "language_info": {
      "codemirror_mode": {
        "name": "ipython",
        "version": 3
      },
      "file_extension": ".py",
      "mimetype": "text/x-python",
      "name": "python",
      "nbconvert_exporter": "python",
      "pygments_lexer": "ipython3",
      "version": "3.11.1"
    }
  },
  "nbformat": 4,
  "nbformat_minor": 0
}
