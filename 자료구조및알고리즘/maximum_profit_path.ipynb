{
 "cells": [
  {
   "cell_type": "code",
   "execution_count": 1,
   "metadata": {},
   "outputs": [
    {
     "name": "stdout",
     "output_type": "stream",
     "text": [
      "68\n"
     ]
    }
   ],
   "source": [
    "def maximum_profit_path(p_matrix, m, n):\n",
    "  s_matrix = list()\n",
    "  for i in range(m):\n",
    "    row = list()\n",
    "    s_matrix.append(row)\n",
    "    for j in range(n):\n",
    "      row.append(None)\n",
    "\n",
    "  # Do something\n",
    "  for i in range(m):\n",
    "    for j in range(n):\n",
    "      if i == 0 and j == 0:\n",
    "        s_matrix[i][j] = p_matrix[i][j]\n",
    "      elif i == 0:\n",
    "        s_matrix[i][j] = s_matrix[i][j-1] + p_matrix[i][j]\n",
    "      elif j == 0:\n",
    "        s_matrix[i][j] = s_matrix[i-1][j] + p_matrix[i][j]\n",
    "      else:\n",
    "        s_matrix[i][j] = max(s_matrix[i-1][j], s_matrix[i][j-1]) + p_matrix[i][j]\n",
    "\n",
    "  print(s_matrix[m-1][n-1])\n",
    "\n",
    "matrix = [[6, 7, 12, 5],\n",
    "          [5, 3, 11, 18],\n",
    "          [7, 17, 3, 3],\n",
    "          [8, 10, 14, 9]]\n",
    "\n",
    "maximum_profit_path(matrix, len(matrix), len(matrix[0]))"
   ]
  },
  {
   "cell_type": "code",
   "execution_count": 13,
   "metadata": {},
   "outputs": [
    {
     "ename": "TypeError",
     "evalue": "unsupported operand type(s) for +: 'int' and 'NoneType'",
     "output_type": "error",
     "traceback": [
      "\u001b[1;31m---------------------------------------------------------------------------\u001b[0m",
      "\u001b[1;31mTypeError\u001b[0m                                 Traceback (most recent call last)",
      "Cell \u001b[1;32mIn[13], line 28\u001b[0m\n\u001b[0;32m     21\u001b[0m   \u001b[38;5;28mprint\u001b[39m(s_matrix[m\u001b[38;5;241m-\u001b[39m\u001b[38;5;241m1\u001b[39m][n\u001b[38;5;241m-\u001b[39m\u001b[38;5;241m1\u001b[39m])\n\u001b[0;32m     23\u001b[0m matrix \u001b[38;5;241m=\u001b[39m [[\u001b[38;5;241m6\u001b[39m, \u001b[38;5;241m7\u001b[39m, \u001b[38;5;241m12\u001b[39m, \u001b[38;5;241m5\u001b[39m],\n\u001b[0;32m     24\u001b[0m           [\u001b[38;5;241m5\u001b[39m, \u001b[38;5;241m3\u001b[39m, \u001b[38;5;241m11\u001b[39m, \u001b[38;5;241m18\u001b[39m],\n\u001b[0;32m     25\u001b[0m           [\u001b[38;5;241m7\u001b[39m, \u001b[38;5;241m17\u001b[39m, \u001b[38;5;241m3\u001b[39m, \u001b[38;5;241m3\u001b[39m],\n\u001b[0;32m     26\u001b[0m           [\u001b[38;5;241m8\u001b[39m, \u001b[38;5;241m10\u001b[39m, \u001b[38;5;241m14\u001b[39m, \u001b[38;5;241m9\u001b[39m]]\n\u001b[1;32m---> 28\u001b[0m \u001b[43mmaximum_profit_path\u001b[49m\u001b[43m(\u001b[49m\u001b[43mmatrix\u001b[49m\u001b[43m,\u001b[49m\u001b[43m \u001b[49m\u001b[38;5;28;43mlen\u001b[39;49m\u001b[43m(\u001b[49m\u001b[43mmatrix\u001b[49m\u001b[43m)\u001b[49m\u001b[43m,\u001b[49m\u001b[43m \u001b[49m\u001b[38;5;28;43mlen\u001b[39;49m\u001b[43m(\u001b[49m\u001b[43mmatrix\u001b[49m\u001b[43m[\u001b[49m\u001b[38;5;241;43m0\u001b[39;49m\u001b[43m]\u001b[49m\u001b[43m)\u001b[49m\u001b[43m)\u001b[49m\n",
      "Cell \u001b[1;32mIn[13], line 12\u001b[0m, in \u001b[0;36mmaximum_profit_path\u001b[1;34m(p_matrix, m, n)\u001b[0m\n\u001b[0;32m      9\u001b[0m \u001b[38;5;66;03m# Do something\u001b[39;00m\n\u001b[0;32m     11\u001b[0m \u001b[38;5;28;01mfor\u001b[39;00m i \u001b[38;5;129;01min\u001b[39;00m \u001b[38;5;28mrange\u001b[39m(m):\n\u001b[1;32m---> 12\u001b[0m   s_matrix[i][\u001b[38;5;241m0\u001b[39m] \u001b[38;5;241m=\u001b[39m \u001b[43mp_matrix\u001b[49m\u001b[43m[\u001b[49m\u001b[43mi\u001b[49m\u001b[43m]\u001b[49m\u001b[43m[\u001b[49m\u001b[38;5;241;43m0\u001b[39;49m\u001b[43m]\u001b[49m\u001b[43m \u001b[49m\u001b[38;5;241;43m+\u001b[39;49m\u001b[43m \u001b[49m\u001b[43ms_matrix\u001b[49m\u001b[43m[\u001b[49m\u001b[43mi\u001b[49m\u001b[38;5;241;43m-\u001b[39;49m\u001b[38;5;241;43m1\u001b[39;49m\u001b[43m]\u001b[49m\u001b[43m[\u001b[49m\u001b[38;5;241;43m0\u001b[39;49m\u001b[43m]\u001b[49m\n\u001b[0;32m     14\u001b[0m \u001b[38;5;28;01mfor\u001b[39;00m j \u001b[38;5;129;01min\u001b[39;00m \u001b[38;5;28mrange\u001b[39m(n):\n\u001b[0;32m     15\u001b[0m   s_matrix[\u001b[38;5;241m0\u001b[39m][j] \u001b[38;5;241m=\u001b[39m p_matrix[\u001b[38;5;241m0\u001b[39m][j] \u001b[38;5;241m+\u001b[39m s_matrix[\u001b[38;5;241m0\u001b[39m][j\u001b[38;5;241m-\u001b[39m\u001b[38;5;241m1\u001b[39m]\n",
      "\u001b[1;31mTypeError\u001b[0m: unsupported operand type(s) for +: 'int' and 'NoneType'"
     ]
    }
   ],
   "source": [
    "def maximum_profit_path(p_matrix, m, n):\n",
    "  s_matrix = list()\n",
    "  for i in range(m):\n",
    "    row = list()\n",
    "    s_matrix.append(row)\n",
    "    for j in range(n):\n",
    "      row.append(None)\n",
    "\n",
    "  # Do something\n",
    "  for i in range(m):\n",
    "    s_matrix[i][0] = p_matrix[i][0] + s_matrix[i-1][0]\n",
    "\n",
    "  for j in range(n):\n",
    "    s_matrix[0][j] = p_matrix[0][j] + s_matrix[0][j-1]\n",
    "\n",
    "  for i in range(1, m):\n",
    "    for j in range(1, n):\n",
    "      s_matrix[i][j] = max(s_matrix[i-1][j], s_matrix[i][j-1]) + p_matrix[i][j]\n",
    "\n",
    "  print(s_matrix[m-1][n-1])\n",
    "\n",
    "matrix = [[6, 7, 12, 5],\n",
    "          [5, 3, 11, 18],\n",
    "          [7, 17, 3, 3],\n",
    "          [8, 10, 14, 9]]\n",
    "\n",
    "maximum_profit_path(matrix, len(matrix), len(matrix[0]))"
   ]
  },
  {
   "cell_type": "code",
   "execution_count": null,
   "metadata": {},
   "outputs": [],
   "source": []
  }
 ],
 "metadata": {
  "kernelspec": {
   "display_name": "Python 3",
   "language": "python",
   "name": "python3"
  },
  "language_info": {
   "codemirror_mode": {
    "name": "ipython",
    "version": 3
   },
   "file_extension": ".py",
   "mimetype": "text/x-python",
   "name": "python",
   "nbconvert_exporter": "python",
   "pygments_lexer": "ipython3",
   "version": "3.11.1"
  }
 },
 "nbformat": 4,
 "nbformat_minor": 2
}
